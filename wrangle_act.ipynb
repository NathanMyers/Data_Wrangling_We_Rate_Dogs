{
 "cells": [
  {
   "cell_type": "markdown",
   "metadata": {},
   "source": [
    "# Wrangle and analyze Doggo-Data"
   ]
  },
  {
   "cell_type": "code",
   "execution_count": null,
   "metadata": {},
   "outputs": [],
   "source": [
    "## Import Libraries "
   ]
  },
  {
   "cell_type": "code",
   "execution_count": 1,
   "metadata": {},
   "outputs": [],
   "source": [
    "import pandas as pd\n",
    "import numpy as np \n",
    "import tweepy\n",
    "import requests\n",
    "import json\n",
    "import os\n",
    "import re\n",
    "import matplotlib.pyplot as plt\n",
    "import datetime"
   ]
  },
  {
   "cell_type": "markdown",
   "metadata": {},
   "source": [
    "## Gathering the Data"
   ]
  },
  {
   "cell_type": "markdown",
   "metadata": {},
   "source": [
    "First, import tweek archive given to us by Udacity."
   ]
  },
  {
   "cell_type": "code",
   "execution_count": 2,
   "metadata": {},
   "outputs": [],
   "source": [
    "tweet_archive = pd.read_csv('twitter-archive-enhanced.csv')"
   ]
  },
  {
   "cell_type": "code",
   "execution_count": 3,
   "metadata": {},
   "outputs": [],
   "source": [
    "# Request library to download tsv file from website\n",
    "file_url = 'https://d17h27t6h515a5.cloudfront.net/topher/2017/August/599fd2ad_image-predictions/image-predictions.tsv'\n",
    "response = requests.get(file_url)\n",
    "with open(os.path.join(os.getcwd(), file_url.split('/')[-1]), mode = 'wb') as file:\n",
    "    file.write(response.content)"
   ]
  },
  {
   "cell_type": "code",
   "execution_count": 4,
   "metadata": {},
   "outputs": [],
   "source": [
    "doggo_pred = pd.read_csv('image-predictions.tsv', sep='\\t')"
   ]
  },
  {
   "cell_type": "code",
   "execution_count": null,
   "metadata": {},
   "outputs": [],
   "source": [
    "consumer_key = #############\n",
    "consumer_secret = ############\n",
    "access_token = ################\n",
    "access_secret = #############"
   ]
  },
  {
   "cell_type": "code",
   "execution_count": null,
   "metadata": {
    "scrolled": true
   },
   "outputs": [],
   "source": [
    "# Create Connection to API\n",
    "auth = tweepy.OAuthHandler(consumer_key, consumer_secret)\n",
    "auth.set_access_token(access_token, access_secret)\n",
    "api = tweepy.API(auth, wait_on_rate_limit=True, wait_on_rate_limit_notify=True)\n",
    "\n",
    "deleted_tweets = []\n",
    "\n",
    "with open(os.path.join(os.getcwd(), 'tweet_json.txt'), mode = 'w') as file:\n",
    "    for twt_id in tweet_archive['tweet_id']:\n",
    "        try:\n",
    "            tweet = api.get_status(twt_id, tweet_mode = 'extended')\n",
    "            file.write(json.dumps(tweet._json) + '\\n')\n",
    "        except:\n",
    "            print('Oops! couldn\\'t find the tweet!')\n",
    "            deleted_tweets.append(twt_id)\n",
    "       \n",
    "#When loop finishes, we set up the program to let us know.        \n",
    "print(\"Finished retrieving tweets!\")\n",
    "            "
   ]
  },
  {
   "cell_type": "code",
   "execution_count": 5,
   "metadata": {},
   "outputs": [],
   "source": [
    "twt_id = []\n",
    "faves = []\n",
    "rts = []\n",
    "with open('tweet_json.txt', mode = 'r') as f:\n",
    "     for line in f.readlines():\n",
    "            tweet_data = json.loads(line)\n",
    "            twt_id.append(tweet_data['id'])\n",
    "            faves.append(tweet_data['favorite_count'])\n",
    "            rts.append(tweet_data['retweet_count'])\n",
    "            \n",
    "additional_tweet_data = pd.DataFrame({'tweet_id':twt_id, 'favorite_count':faves, 'retweet_count':rts})"
   ]
  },
  {
   "cell_type": "markdown",
   "metadata": {},
   "source": [
    "## Data Assessment "
   ]
  },
  {
   "cell_type": "code",
   "execution_count": 6,
   "metadata": {},
   "outputs": [
    {
     "name": "stdout",
     "output_type": "stream",
     "text": [
      "<class 'pandas.core.frame.DataFrame'>\n",
      "RangeIndex: 2356 entries, 0 to 2355\n",
      "Data columns (total 17 columns):\n",
      "tweet_id                      2356 non-null int64\n",
      "in_reply_to_status_id         78 non-null float64\n",
      "in_reply_to_user_id           78 non-null float64\n",
      "timestamp                     2356 non-null object\n",
      "source                        2356 non-null object\n",
      "text                          2356 non-null object\n",
      "retweeted_status_id           181 non-null float64\n",
      "retweeted_status_user_id      181 non-null float64\n",
      "retweeted_status_timestamp    181 non-null object\n",
      "expanded_urls                 2297 non-null object\n",
      "rating_numerator              2356 non-null int64\n",
      "rating_denominator            2356 non-null int64\n",
      "name                          2356 non-null object\n",
      "doggo                         2356 non-null object\n",
      "floofer                       2356 non-null object\n",
      "pupper                        2356 non-null object\n",
      "puppo                         2356 non-null object\n",
      "dtypes: float64(4), int64(3), object(10)\n",
      "memory usage: 313.0+ KB\n"
     ]
    }
   ],
   "source": [
    "tweet_archive.info()"
   ]
  },
  {
   "cell_type": "code",
   "execution_count": 7,
   "metadata": {},
   "outputs": [
    {
     "data": {
      "text/html": [
       "<div>\n",
       "<style>\n",
       "    .dataframe thead tr:only-child th {\n",
       "        text-align: right;\n",
       "    }\n",
       "\n",
       "    .dataframe thead th {\n",
       "        text-align: left;\n",
       "    }\n",
       "\n",
       "    .dataframe tbody tr th {\n",
       "        vertical-align: top;\n",
       "    }\n",
       "</style>\n",
       "<table border=\"1\" class=\"dataframe\">\n",
       "  <thead>\n",
       "    <tr style=\"text-align: right;\">\n",
       "      <th></th>\n",
       "      <th>tweet_id</th>\n",
       "      <th>in_reply_to_status_id</th>\n",
       "      <th>in_reply_to_user_id</th>\n",
       "      <th>retweeted_status_id</th>\n",
       "      <th>retweeted_status_user_id</th>\n",
       "      <th>rating_numerator</th>\n",
       "      <th>rating_denominator</th>\n",
       "    </tr>\n",
       "  </thead>\n",
       "  <tbody>\n",
       "    <tr>\n",
       "      <th>count</th>\n",
       "      <td>2.356000e+03</td>\n",
       "      <td>7.800000e+01</td>\n",
       "      <td>7.800000e+01</td>\n",
       "      <td>1.810000e+02</td>\n",
       "      <td>1.810000e+02</td>\n",
       "      <td>2356.000000</td>\n",
       "      <td>2356.000000</td>\n",
       "    </tr>\n",
       "    <tr>\n",
       "      <th>mean</th>\n",
       "      <td>7.427716e+17</td>\n",
       "      <td>7.455079e+17</td>\n",
       "      <td>2.014171e+16</td>\n",
       "      <td>7.720400e+17</td>\n",
       "      <td>1.241698e+16</td>\n",
       "      <td>13.126486</td>\n",
       "      <td>10.455433</td>\n",
       "    </tr>\n",
       "    <tr>\n",
       "      <th>std</th>\n",
       "      <td>6.856705e+16</td>\n",
       "      <td>7.582492e+16</td>\n",
       "      <td>1.252797e+17</td>\n",
       "      <td>6.236928e+16</td>\n",
       "      <td>9.599254e+16</td>\n",
       "      <td>45.876648</td>\n",
       "      <td>6.745237</td>\n",
       "    </tr>\n",
       "    <tr>\n",
       "      <th>min</th>\n",
       "      <td>6.660209e+17</td>\n",
       "      <td>6.658147e+17</td>\n",
       "      <td>1.185634e+07</td>\n",
       "      <td>6.661041e+17</td>\n",
       "      <td>7.832140e+05</td>\n",
       "      <td>0.000000</td>\n",
       "      <td>0.000000</td>\n",
       "    </tr>\n",
       "    <tr>\n",
       "      <th>25%</th>\n",
       "      <td>6.783989e+17</td>\n",
       "      <td>6.757419e+17</td>\n",
       "      <td>3.086374e+08</td>\n",
       "      <td>7.186315e+17</td>\n",
       "      <td>4.196984e+09</td>\n",
       "      <td>10.000000</td>\n",
       "      <td>10.000000</td>\n",
       "    </tr>\n",
       "    <tr>\n",
       "      <th>50%</th>\n",
       "      <td>7.196279e+17</td>\n",
       "      <td>7.038708e+17</td>\n",
       "      <td>4.196984e+09</td>\n",
       "      <td>7.804657e+17</td>\n",
       "      <td>4.196984e+09</td>\n",
       "      <td>11.000000</td>\n",
       "      <td>10.000000</td>\n",
       "    </tr>\n",
       "    <tr>\n",
       "      <th>75%</th>\n",
       "      <td>7.993373e+17</td>\n",
       "      <td>8.257804e+17</td>\n",
       "      <td>4.196984e+09</td>\n",
       "      <td>8.203146e+17</td>\n",
       "      <td>4.196984e+09</td>\n",
       "      <td>12.000000</td>\n",
       "      <td>10.000000</td>\n",
       "    </tr>\n",
       "    <tr>\n",
       "      <th>max</th>\n",
       "      <td>8.924206e+17</td>\n",
       "      <td>8.862664e+17</td>\n",
       "      <td>8.405479e+17</td>\n",
       "      <td>8.874740e+17</td>\n",
       "      <td>7.874618e+17</td>\n",
       "      <td>1776.000000</td>\n",
       "      <td>170.000000</td>\n",
       "    </tr>\n",
       "  </tbody>\n",
       "</table>\n",
       "</div>"
      ],
      "text/plain": [
       "           tweet_id  in_reply_to_status_id  in_reply_to_user_id  \\\n",
       "count  2.356000e+03           7.800000e+01         7.800000e+01   \n",
       "mean   7.427716e+17           7.455079e+17         2.014171e+16   \n",
       "std    6.856705e+16           7.582492e+16         1.252797e+17   \n",
       "min    6.660209e+17           6.658147e+17         1.185634e+07   \n",
       "25%    6.783989e+17           6.757419e+17         3.086374e+08   \n",
       "50%    7.196279e+17           7.038708e+17         4.196984e+09   \n",
       "75%    7.993373e+17           8.257804e+17         4.196984e+09   \n",
       "max    8.924206e+17           8.862664e+17         8.405479e+17   \n",
       "\n",
       "       retweeted_status_id  retweeted_status_user_id  rating_numerator  \\\n",
       "count         1.810000e+02              1.810000e+02       2356.000000   \n",
       "mean          7.720400e+17              1.241698e+16         13.126486   \n",
       "std           6.236928e+16              9.599254e+16         45.876648   \n",
       "min           6.661041e+17              7.832140e+05          0.000000   \n",
       "25%           7.186315e+17              4.196984e+09         10.000000   \n",
       "50%           7.804657e+17              4.196984e+09         11.000000   \n",
       "75%           8.203146e+17              4.196984e+09         12.000000   \n",
       "max           8.874740e+17              7.874618e+17       1776.000000   \n",
       "\n",
       "       rating_denominator  \n",
       "count         2356.000000  \n",
       "mean            10.455433  \n",
       "std              6.745237  \n",
       "min              0.000000  \n",
       "25%             10.000000  \n",
       "50%             10.000000  \n",
       "75%             10.000000  \n",
       "max            170.000000  "
      ]
     },
     "execution_count": 7,
     "metadata": {},
     "output_type": "execute_result"
    }
   ],
   "source": [
    "tweet_archive.describe()"
   ]
  },
  {
   "cell_type": "code",
   "execution_count": 8,
   "metadata": {},
   "outputs": [
    {
     "data": {
      "text/html": [
       "<div>\n",
       "<style>\n",
       "    .dataframe thead tr:only-child th {\n",
       "        text-align: right;\n",
       "    }\n",
       "\n",
       "    .dataframe thead th {\n",
       "        text-align: left;\n",
       "    }\n",
       "\n",
       "    .dataframe tbody tr th {\n",
       "        vertical-align: top;\n",
       "    }\n",
       "</style>\n",
       "<table border=\"1\" class=\"dataframe\">\n",
       "  <thead>\n",
       "    <tr style=\"text-align: right;\">\n",
       "      <th></th>\n",
       "      <th>tweet_id</th>\n",
       "      <th>in_reply_to_status_id</th>\n",
       "      <th>in_reply_to_user_id</th>\n",
       "      <th>timestamp</th>\n",
       "      <th>source</th>\n",
       "      <th>text</th>\n",
       "      <th>retweeted_status_id</th>\n",
       "      <th>retweeted_status_user_id</th>\n",
       "      <th>retweeted_status_timestamp</th>\n",
       "      <th>expanded_urls</th>\n",
       "      <th>rating_numerator</th>\n",
       "      <th>rating_denominator</th>\n",
       "      <th>name</th>\n",
       "      <th>doggo</th>\n",
       "      <th>floofer</th>\n",
       "      <th>pupper</th>\n",
       "      <th>puppo</th>\n",
       "    </tr>\n",
       "  </thead>\n",
       "  <tbody>\n",
       "    <tr>\n",
       "      <th>1342</th>\n",
       "      <td>704819833553219584</td>\n",
       "      <td>NaN</td>\n",
       "      <td>NaN</td>\n",
       "      <td>2016-03-02 00:05:17 +0000</td>\n",
       "      <td>&lt;a href=\"http://twitter.com/download/iphone\" r...</td>\n",
       "      <td>This is Chesterson. He's a Bolivian Scoop Dog....</td>\n",
       "      <td>NaN</td>\n",
       "      <td>NaN</td>\n",
       "      <td>NaN</td>\n",
       "      <td>https://twitter.com/dog_rates/status/704819833...</td>\n",
       "      <td>7</td>\n",
       "      <td>10</td>\n",
       "      <td>Chesterson</td>\n",
       "      <td>None</td>\n",
       "      <td>None</td>\n",
       "      <td>None</td>\n",
       "      <td>None</td>\n",
       "    </tr>\n",
       "    <tr>\n",
       "      <th>1465</th>\n",
       "      <td>694352839993344000</td>\n",
       "      <td>NaN</td>\n",
       "      <td>NaN</td>\n",
       "      <td>2016-02-02 02:53:12 +0000</td>\n",
       "      <td>&lt;a href=\"http://twitter.com/download/iphone\" r...</td>\n",
       "      <td>Meet Oliviér. He takes killer selfies. Has a d...</td>\n",
       "      <td>NaN</td>\n",
       "      <td>NaN</td>\n",
       "      <td>NaN</td>\n",
       "      <td>https://twitter.com/dog_rates/status/694352839...</td>\n",
       "      <td>10</td>\n",
       "      <td>10</td>\n",
       "      <td>Oliviér</td>\n",
       "      <td>None</td>\n",
       "      <td>None</td>\n",
       "      <td>None</td>\n",
       "      <td>None</td>\n",
       "    </tr>\n",
       "    <tr>\n",
       "      <th>494</th>\n",
       "      <td>813187593374461952</td>\n",
       "      <td>NaN</td>\n",
       "      <td>NaN</td>\n",
       "      <td>2016-12-26 01:00:05 +0000</td>\n",
       "      <td>&lt;a href=\"http://twitter.com/download/iphone\" r...</td>\n",
       "      <td>We only rate dogs. Please don't send in other ...</td>\n",
       "      <td>NaN</td>\n",
       "      <td>NaN</td>\n",
       "      <td>NaN</td>\n",
       "      <td>https://twitter.com/dog_rates/status/813187593...</td>\n",
       "      <td>13</td>\n",
       "      <td>10</td>\n",
       "      <td>None</td>\n",
       "      <td>None</td>\n",
       "      <td>None</td>\n",
       "      <td>None</td>\n",
       "      <td>None</td>\n",
       "    </tr>\n",
       "    <tr>\n",
       "      <th>593</th>\n",
       "      <td>798925684722855936</td>\n",
       "      <td>NaN</td>\n",
       "      <td>NaN</td>\n",
       "      <td>2016-11-16 16:28:21 +0000</td>\n",
       "      <td>&lt;a href=\"http://twitter.com/download/iphone\" r...</td>\n",
       "      <td>This is Shadow. He's a firm believer that they...</td>\n",
       "      <td>NaN</td>\n",
       "      <td>NaN</td>\n",
       "      <td>NaN</td>\n",
       "      <td>https://twitter.com/dog_rates/status/798925684...</td>\n",
       "      <td>11</td>\n",
       "      <td>10</td>\n",
       "      <td>Shadow</td>\n",
       "      <td>None</td>\n",
       "      <td>None</td>\n",
       "      <td>None</td>\n",
       "      <td>None</td>\n",
       "    </tr>\n",
       "    <tr>\n",
       "      <th>2181</th>\n",
       "      <td>668994913074286592</td>\n",
       "      <td>NaN</td>\n",
       "      <td>NaN</td>\n",
       "      <td>2015-11-24 03:29:51 +0000</td>\n",
       "      <td>&lt;a href=\"http://twitter.com/download/iphone\" r...</td>\n",
       "      <td>Two gorgeous pups here. Both have cute fake ho...</td>\n",
       "      <td>NaN</td>\n",
       "      <td>NaN</td>\n",
       "      <td>NaN</td>\n",
       "      <td>https://twitter.com/dog_rates/status/668994913...</td>\n",
       "      <td>5</td>\n",
       "      <td>10</td>\n",
       "      <td>None</td>\n",
       "      <td>None</td>\n",
       "      <td>None</td>\n",
       "      <td>None</td>\n",
       "      <td>None</td>\n",
       "    </tr>\n",
       "  </tbody>\n",
       "</table>\n",
       "</div>"
      ],
      "text/plain": [
       "                tweet_id  in_reply_to_status_id  in_reply_to_user_id  \\\n",
       "1342  704819833553219584                    NaN                  NaN   \n",
       "1465  694352839993344000                    NaN                  NaN   \n",
       "494   813187593374461952                    NaN                  NaN   \n",
       "593   798925684722855936                    NaN                  NaN   \n",
       "2181  668994913074286592                    NaN                  NaN   \n",
       "\n",
       "                      timestamp  \\\n",
       "1342  2016-03-02 00:05:17 +0000   \n",
       "1465  2016-02-02 02:53:12 +0000   \n",
       "494   2016-12-26 01:00:05 +0000   \n",
       "593   2016-11-16 16:28:21 +0000   \n",
       "2181  2015-11-24 03:29:51 +0000   \n",
       "\n",
       "                                                 source  \\\n",
       "1342  <a href=\"http://twitter.com/download/iphone\" r...   \n",
       "1465  <a href=\"http://twitter.com/download/iphone\" r...   \n",
       "494   <a href=\"http://twitter.com/download/iphone\" r...   \n",
       "593   <a href=\"http://twitter.com/download/iphone\" r...   \n",
       "2181  <a href=\"http://twitter.com/download/iphone\" r...   \n",
       "\n",
       "                                                   text  retweeted_status_id  \\\n",
       "1342  This is Chesterson. He's a Bolivian Scoop Dog....                  NaN   \n",
       "1465  Meet Oliviér. He takes killer selfies. Has a d...                  NaN   \n",
       "494   We only rate dogs. Please don't send in other ...                  NaN   \n",
       "593   This is Shadow. He's a firm believer that they...                  NaN   \n",
       "2181  Two gorgeous pups here. Both have cute fake ho...                  NaN   \n",
       "\n",
       "      retweeted_status_user_id retweeted_status_timestamp  \\\n",
       "1342                       NaN                        NaN   \n",
       "1465                       NaN                        NaN   \n",
       "494                        NaN                        NaN   \n",
       "593                        NaN                        NaN   \n",
       "2181                       NaN                        NaN   \n",
       "\n",
       "                                          expanded_urls  rating_numerator  \\\n",
       "1342  https://twitter.com/dog_rates/status/704819833...                 7   \n",
       "1465  https://twitter.com/dog_rates/status/694352839...                10   \n",
       "494   https://twitter.com/dog_rates/status/813187593...                13   \n",
       "593   https://twitter.com/dog_rates/status/798925684...                11   \n",
       "2181  https://twitter.com/dog_rates/status/668994913...                 5   \n",
       "\n",
       "      rating_denominator        name doggo floofer pupper puppo  \n",
       "1342                  10  Chesterson  None    None   None  None  \n",
       "1465                  10     Oliviér  None    None   None  None  \n",
       "494                   10        None  None    None   None  None  \n",
       "593                   10      Shadow  None    None   None  None  \n",
       "2181                  10        None  None    None   None  None  "
      ]
     },
     "execution_count": 8,
     "metadata": {},
     "output_type": "execute_result"
    }
   ],
   "source": [
    "tweet_archive.sample(5)"
   ]
  },
  {
   "cell_type": "code",
   "execution_count": 9,
   "metadata": {},
   "outputs": [
    {
     "data": {
      "text/plain": [
       "12      558\n",
       "11      464\n",
       "10      461\n",
       "13      351\n",
       "9       158\n",
       "8       102\n",
       "7        55\n",
       "14       54\n",
       "5        37\n",
       "6        32\n",
       "3        19\n",
       "4        17\n",
       "1         9\n",
       "2         9\n",
       "420       2\n",
       "0         2\n",
       "15        2\n",
       "75        2\n",
       "80        1\n",
       "20        1\n",
       "24        1\n",
       "26        1\n",
       "44        1\n",
       "50        1\n",
       "60        1\n",
       "165       1\n",
       "84        1\n",
       "88        1\n",
       "144       1\n",
       "182       1\n",
       "143       1\n",
       "666       1\n",
       "960       1\n",
       "1776      1\n",
       "17        1\n",
       "27        1\n",
       "45        1\n",
       "99        1\n",
       "121       1\n",
       "204       1\n",
       "Name: rating_numerator, dtype: int64"
      ]
     },
     "execution_count": 9,
     "metadata": {},
     "output_type": "execute_result"
    }
   ],
   "source": [
    "tweet_archive.rating_numerator.value_counts()"
   ]
  },
  {
   "cell_type": "code",
   "execution_count": 10,
   "metadata": {},
   "outputs": [
    {
     "name": "stdout",
     "output_type": "stream",
     "text": [
      "Empty DataFrame\n",
      "Columns: [tweet_id, in_reply_to_status_id, in_reply_to_user_id, timestamp, source, text, retweeted_status_id, retweeted_status_user_id, retweeted_status_timestamp, expanded_urls, rating_numerator, rating_denominator, name, doggo, floofer, pupper, puppo]\n",
      "Index: []\n",
      "Empty DataFrame\n",
      "Columns: [tweet_id, in_reply_to_status_id, in_reply_to_user_id, timestamp, source, text, retweeted_status_id, retweeted_status_user_id, retweeted_status_timestamp, expanded_urls, rating_numerator, rating_denominator, name, doggo, floofer, pupper, puppo]\n",
      "Index: []\n"
     ]
    }
   ],
   "source": [
    "print(tweet_archive[tweet_archive.tweet_id.isnull()])\n",
    "print(tweet_archive[tweet_archive.tweet_id.duplicated()])"
   ]
  },
  {
   "cell_type": "code",
   "execution_count": 11,
   "metadata": {},
   "outputs": [
    {
     "name": "stdout",
     "output_type": "stream",
     "text": [
      "                tweet_id  in_reply_to_status_id  in_reply_to_user_id  \\\n",
      "315   835152434251116546                    NaN                  NaN   \n",
      "1016  746906459439529985           7.468859e+17         4.196984e+09   \n",
      "\n",
      "                      timestamp  \\\n",
      "315   2017-02-24 15:40:31 +0000   \n",
      "1016  2016-06-26 03:22:31 +0000   \n",
      "\n",
      "                                                 source  \\\n",
      "315   <a href=\"http://twitter.com/download/iphone\" r...   \n",
      "1016  <a href=\"http://twitter.com/download/iphone\" r...   \n",
      "\n",
      "                                                   text  retweeted_status_id  \\\n",
      "315   When you're so blinded by your systematic plag...                  NaN   \n",
      "1016  PUPDATE: can't see any. Even if I could, I cou...                  NaN   \n",
      "\n",
      "      retweeted_status_user_id retweeted_status_timestamp  \\\n",
      "315                        NaN                        NaN   \n",
      "1016                       NaN                        NaN   \n",
      "\n",
      "                                          expanded_urls  rating_numerator  \\\n",
      "315   https://twitter.com/dog_rates/status/835152434...                 0   \n",
      "1016  https://twitter.com/dog_rates/status/746906459...                 0   \n",
      "\n",
      "      rating_denominator  name doggo floofer pupper puppo  \n",
      "315                   10  None  None    None   None  None  \n",
      "1016                  10  None  None    None   None  None  \n"
     ]
    }
   ],
   "source": [
    "(print)(tweet_archive[tweet_archive.rating_numerator == 0])"
   ]
  },
  {
   "cell_type": "code",
   "execution_count": 12,
   "metadata": {},
   "outputs": [
    {
     "name": "stdout",
     "output_type": "stream",
     "text": [
      "None           745\n",
      "a               55\n",
      "Charlie         12\n",
      "Lucy            11\n",
      "Oliver          11\n",
      "Cooper          11\n",
      "Penny           10\n",
      "Lola            10\n",
      "Tucker          10\n",
      "Winston          9\n",
      "Bo               9\n",
      "the              8\n",
      "Sadie            8\n",
      "Toby             7\n",
      "Buddy            7\n",
      "an               7\n",
      "Daisy            7\n",
      "Bailey           7\n",
      "Stanley          6\n",
      "Bella            6\n",
      "Leo              6\n",
      "Jax              6\n",
      "Koda             6\n",
      "Milo             6\n",
      "Dave             6\n",
      "Scout            6\n",
      "Jack             6\n",
      "Rusty            6\n",
      "Oscar            6\n",
      "Finn             5\n",
      "              ... \n",
      "Kona             1\n",
      "Hanz             1\n",
      "Billy            1\n",
      "Duddles          1\n",
      "Clifford         1\n",
      "Gin              1\n",
      "infuriating      1\n",
      "Tuck             1\n",
      "Rodman           1\n",
      "Bayley           1\n",
      "Butters          1\n",
      "Torque           1\n",
      "Biden            1\n",
      "Oreo             1\n",
      "Alfy             1\n",
      "Dutch            1\n",
      "Orion            1\n",
      "Jackie           1\n",
      "Reptar           1\n",
      "Antony           1\n",
      "Saydee           1\n",
      "Mike             1\n",
      "Henry            1\n",
      "Jo               1\n",
      "Damon            1\n",
      "Skittle          1\n",
      "Sparky           1\n",
      "Kingsley         1\n",
      "Buddah           1\n",
      "Lilah            1\n",
      "Name: name, Length: 957, dtype: int64\n"
     ]
    }
   ],
   "source": [
    "print(tweet_archive.name.value_counts())"
   ]
  },
  {
   "cell_type": "code",
   "execution_count": 13,
   "metadata": {},
   "outputs": [
    {
     "name": "stdout",
     "output_type": "stream",
     "text": [
      "<class 'pandas.core.frame.DataFrame'>\n",
      "RangeIndex: 2075 entries, 0 to 2074\n",
      "Data columns (total 12 columns):\n",
      "tweet_id    2075 non-null int64\n",
      "jpg_url     2075 non-null object\n",
      "img_num     2075 non-null int64\n",
      "p1          2075 non-null object\n",
      "p1_conf     2075 non-null float64\n",
      "p1_dog      2075 non-null bool\n",
      "p2          2075 non-null object\n",
      "p2_conf     2075 non-null float64\n",
      "p2_dog      2075 non-null bool\n",
      "p3          2075 non-null object\n",
      "p3_conf     2075 non-null float64\n",
      "p3_dog      2075 non-null bool\n",
      "dtypes: bool(3), float64(3), int64(2), object(4)\n",
      "memory usage: 152.1+ KB\n"
     ]
    }
   ],
   "source": [
    "doggo_pred.info()"
   ]
  },
  {
   "cell_type": "code",
   "execution_count": 14,
   "metadata": {},
   "outputs": [
    {
     "data": {
      "text/html": [
       "<div>\n",
       "<style>\n",
       "    .dataframe thead tr:only-child th {\n",
       "        text-align: right;\n",
       "    }\n",
       "\n",
       "    .dataframe thead th {\n",
       "        text-align: left;\n",
       "    }\n",
       "\n",
       "    .dataframe tbody tr th {\n",
       "        vertical-align: top;\n",
       "    }\n",
       "</style>\n",
       "<table border=\"1\" class=\"dataframe\">\n",
       "  <thead>\n",
       "    <tr style=\"text-align: right;\">\n",
       "      <th></th>\n",
       "      <th>tweet_id</th>\n",
       "      <th>jpg_url</th>\n",
       "      <th>img_num</th>\n",
       "      <th>p1</th>\n",
       "      <th>p1_conf</th>\n",
       "      <th>p1_dog</th>\n",
       "      <th>p2</th>\n",
       "      <th>p2_conf</th>\n",
       "      <th>p2_dog</th>\n",
       "      <th>p3</th>\n",
       "      <th>p3_conf</th>\n",
       "      <th>p3_dog</th>\n",
       "    </tr>\n",
       "  </thead>\n",
       "  <tbody>\n",
       "    <tr>\n",
       "      <th>1825</th>\n",
       "      <td>835172783151792128</td>\n",
       "      <td>https://pbs.twimg.com/media/C5chM_jWAAQmov9.jpg</td>\n",
       "      <td>2</td>\n",
       "      <td>Border_collie</td>\n",
       "      <td>0.663138</td>\n",
       "      <td>True</td>\n",
       "      <td>collie</td>\n",
       "      <td>0.152494</td>\n",
       "      <td>True</td>\n",
       "      <td>Cardigan</td>\n",
       "      <td>0.035471</td>\n",
       "      <td>True</td>\n",
       "    </tr>\n",
       "    <tr>\n",
       "      <th>1122</th>\n",
       "      <td>726935089318363137</td>\n",
       "      <td>https://pbs.twimg.com/media/ChaXmuAXEAE66KP.jpg</td>\n",
       "      <td>2</td>\n",
       "      <td>teddy</td>\n",
       "      <td>0.821615</td>\n",
       "      <td>False</td>\n",
       "      <td>toy_poodle</td>\n",
       "      <td>0.083749</td>\n",
       "      <td>True</td>\n",
       "      <td>Lakeland_terrier</td>\n",
       "      <td>0.033318</td>\n",
       "      <td>True</td>\n",
       "    </tr>\n",
       "    <tr>\n",
       "      <th>1411</th>\n",
       "      <td>770772759874076672</td>\n",
       "      <td>https://pbs.twimg.com/media/CrJVupHXgAA4Dkk.jpg</td>\n",
       "      <td>1</td>\n",
       "      <td>chow</td>\n",
       "      <td>0.979515</td>\n",
       "      <td>True</td>\n",
       "      <td>golden_retriever</td>\n",
       "      <td>0.010219</td>\n",
       "      <td>True</td>\n",
       "      <td>Pomeranian</td>\n",
       "      <td>0.004606</td>\n",
       "      <td>True</td>\n",
       "    </tr>\n",
       "    <tr>\n",
       "      <th>557</th>\n",
       "      <td>677687604918272002</td>\n",
       "      <td>https://pbs.twimg.com/media/CWehRdEWIAAySyO.jpg</td>\n",
       "      <td>1</td>\n",
       "      <td>Pembroke</td>\n",
       "      <td>0.573047</td>\n",
       "      <td>True</td>\n",
       "      <td>sunglasses</td>\n",
       "      <td>0.126758</td>\n",
       "      <td>False</td>\n",
       "      <td>golden_retriever</td>\n",
       "      <td>0.108047</td>\n",
       "      <td>True</td>\n",
       "    </tr>\n",
       "    <tr>\n",
       "      <th>1903</th>\n",
       "      <td>851953902622658560</td>\n",
       "      <td>https://pbs.twimg.com/media/C4KHj-nWQAA3poV.jpg</td>\n",
       "      <td>1</td>\n",
       "      <td>Staffordshire_bullterrier</td>\n",
       "      <td>0.757547</td>\n",
       "      <td>True</td>\n",
       "      <td>American_Staffordshire_terrier</td>\n",
       "      <td>0.149950</td>\n",
       "      <td>True</td>\n",
       "      <td>Chesapeake_Bay_retriever</td>\n",
       "      <td>0.047523</td>\n",
       "      <td>True</td>\n",
       "    </tr>\n",
       "    <tr>\n",
       "      <th>1476</th>\n",
       "      <td>780496263422808064</td>\n",
       "      <td>https://pbs.twimg.com/media/Ck2d7tJWUAEPTL3.jpg</td>\n",
       "      <td>1</td>\n",
       "      <td>pug</td>\n",
       "      <td>0.997310</td>\n",
       "      <td>True</td>\n",
       "      <td>Brabancon_griffon</td>\n",
       "      <td>0.001186</td>\n",
       "      <td>True</td>\n",
       "      <td>French_bulldog</td>\n",
       "      <td>0.000428</td>\n",
       "      <td>True</td>\n",
       "    </tr>\n",
       "    <tr>\n",
       "      <th>1306</th>\n",
       "      <td>753398408988139520</td>\n",
       "      <td>https://pbs.twimg.com/ext_tw_video_thumb/75339...</td>\n",
       "      <td>1</td>\n",
       "      <td>whippet</td>\n",
       "      <td>0.163794</td>\n",
       "      <td>True</td>\n",
       "      <td>Italian_greyhound</td>\n",
       "      <td>0.157192</td>\n",
       "      <td>True</td>\n",
       "      <td>English_foxhound</td>\n",
       "      <td>0.142995</td>\n",
       "      <td>True</td>\n",
       "    </tr>\n",
       "  </tbody>\n",
       "</table>\n",
       "</div>"
      ],
      "text/plain": [
       "                tweet_id                                            jpg_url  \\\n",
       "1825  835172783151792128    https://pbs.twimg.com/media/C5chM_jWAAQmov9.jpg   \n",
       "1122  726935089318363137    https://pbs.twimg.com/media/ChaXmuAXEAE66KP.jpg   \n",
       "1411  770772759874076672    https://pbs.twimg.com/media/CrJVupHXgAA4Dkk.jpg   \n",
       "557   677687604918272002    https://pbs.twimg.com/media/CWehRdEWIAAySyO.jpg   \n",
       "1903  851953902622658560    https://pbs.twimg.com/media/C4KHj-nWQAA3poV.jpg   \n",
       "1476  780496263422808064    https://pbs.twimg.com/media/Ck2d7tJWUAEPTL3.jpg   \n",
       "1306  753398408988139520  https://pbs.twimg.com/ext_tw_video_thumb/75339...   \n",
       "\n",
       "      img_num                         p1   p1_conf  p1_dog  \\\n",
       "1825        2              Border_collie  0.663138    True   \n",
       "1122        2                      teddy  0.821615   False   \n",
       "1411        1                       chow  0.979515    True   \n",
       "557         1                   Pembroke  0.573047    True   \n",
       "1903        1  Staffordshire_bullterrier  0.757547    True   \n",
       "1476        1                        pug  0.997310    True   \n",
       "1306        1                    whippet  0.163794    True   \n",
       "\n",
       "                                  p2   p2_conf  p2_dog  \\\n",
       "1825                          collie  0.152494    True   \n",
       "1122                      toy_poodle  0.083749    True   \n",
       "1411                golden_retriever  0.010219    True   \n",
       "557                       sunglasses  0.126758   False   \n",
       "1903  American_Staffordshire_terrier  0.149950    True   \n",
       "1476               Brabancon_griffon  0.001186    True   \n",
       "1306               Italian_greyhound  0.157192    True   \n",
       "\n",
       "                            p3   p3_conf  p3_dog  \n",
       "1825                  Cardigan  0.035471    True  \n",
       "1122          Lakeland_terrier  0.033318    True  \n",
       "1411                Pomeranian  0.004606    True  \n",
       "557           golden_retriever  0.108047    True  \n",
       "1903  Chesapeake_Bay_retriever  0.047523    True  \n",
       "1476            French_bulldog  0.000428    True  \n",
       "1306          English_foxhound  0.142995    True  "
      ]
     },
     "execution_count": 14,
     "metadata": {},
     "output_type": "execute_result"
    }
   ],
   "source": [
    "doggo_pred.sample(7)"
   ]
  },
  {
   "cell_type": "code",
   "execution_count": 15,
   "metadata": {},
   "outputs": [
    {
     "data": {
      "text/html": [
       "<div>\n",
       "<style>\n",
       "    .dataframe thead tr:only-child th {\n",
       "        text-align: right;\n",
       "    }\n",
       "\n",
       "    .dataframe thead th {\n",
       "        text-align: left;\n",
       "    }\n",
       "\n",
       "    .dataframe tbody tr th {\n",
       "        vertical-align: top;\n",
       "    }\n",
       "</style>\n",
       "<table border=\"1\" class=\"dataframe\">\n",
       "  <thead>\n",
       "    <tr style=\"text-align: right;\">\n",
       "      <th></th>\n",
       "      <th>tweet_id</th>\n",
       "      <th>img_num</th>\n",
       "      <th>p1_conf</th>\n",
       "      <th>p2_conf</th>\n",
       "      <th>p3_conf</th>\n",
       "    </tr>\n",
       "  </thead>\n",
       "  <tbody>\n",
       "    <tr>\n",
       "      <th>count</th>\n",
       "      <td>2.075000e+03</td>\n",
       "      <td>2075.000000</td>\n",
       "      <td>2075.000000</td>\n",
       "      <td>2.075000e+03</td>\n",
       "      <td>2.075000e+03</td>\n",
       "    </tr>\n",
       "    <tr>\n",
       "      <th>mean</th>\n",
       "      <td>7.384514e+17</td>\n",
       "      <td>1.203855</td>\n",
       "      <td>0.594548</td>\n",
       "      <td>1.345886e-01</td>\n",
       "      <td>6.032417e-02</td>\n",
       "    </tr>\n",
       "    <tr>\n",
       "      <th>std</th>\n",
       "      <td>6.785203e+16</td>\n",
       "      <td>0.561875</td>\n",
       "      <td>0.271174</td>\n",
       "      <td>1.006657e-01</td>\n",
       "      <td>5.090593e-02</td>\n",
       "    </tr>\n",
       "    <tr>\n",
       "      <th>min</th>\n",
       "      <td>6.660209e+17</td>\n",
       "      <td>1.000000</td>\n",
       "      <td>0.044333</td>\n",
       "      <td>1.011300e-08</td>\n",
       "      <td>1.740170e-10</td>\n",
       "    </tr>\n",
       "    <tr>\n",
       "      <th>25%</th>\n",
       "      <td>6.764835e+17</td>\n",
       "      <td>1.000000</td>\n",
       "      <td>0.364412</td>\n",
       "      <td>5.388625e-02</td>\n",
       "      <td>1.622240e-02</td>\n",
       "    </tr>\n",
       "    <tr>\n",
       "      <th>50%</th>\n",
       "      <td>7.119988e+17</td>\n",
       "      <td>1.000000</td>\n",
       "      <td>0.588230</td>\n",
       "      <td>1.181810e-01</td>\n",
       "      <td>4.944380e-02</td>\n",
       "    </tr>\n",
       "    <tr>\n",
       "      <th>75%</th>\n",
       "      <td>7.932034e+17</td>\n",
       "      <td>1.000000</td>\n",
       "      <td>0.843855</td>\n",
       "      <td>1.955655e-01</td>\n",
       "      <td>9.180755e-02</td>\n",
       "    </tr>\n",
       "    <tr>\n",
       "      <th>max</th>\n",
       "      <td>8.924206e+17</td>\n",
       "      <td>4.000000</td>\n",
       "      <td>1.000000</td>\n",
       "      <td>4.880140e-01</td>\n",
       "      <td>2.734190e-01</td>\n",
       "    </tr>\n",
       "  </tbody>\n",
       "</table>\n",
       "</div>"
      ],
      "text/plain": [
       "           tweet_id      img_num      p1_conf       p2_conf       p3_conf\n",
       "count  2.075000e+03  2075.000000  2075.000000  2.075000e+03  2.075000e+03\n",
       "mean   7.384514e+17     1.203855     0.594548  1.345886e-01  6.032417e-02\n",
       "std    6.785203e+16     0.561875     0.271174  1.006657e-01  5.090593e-02\n",
       "min    6.660209e+17     1.000000     0.044333  1.011300e-08  1.740170e-10\n",
       "25%    6.764835e+17     1.000000     0.364412  5.388625e-02  1.622240e-02\n",
       "50%    7.119988e+17     1.000000     0.588230  1.181810e-01  4.944380e-02\n",
       "75%    7.932034e+17     1.000000     0.843855  1.955655e-01  9.180755e-02\n",
       "max    8.924206e+17     4.000000     1.000000  4.880140e-01  2.734190e-01"
      ]
     },
     "execution_count": 15,
     "metadata": {},
     "output_type": "execute_result"
    }
   ],
   "source": [
    "doggo_pred.describe()"
   ]
  },
  {
   "cell_type": "code",
   "execution_count": 16,
   "metadata": {},
   "outputs": [
    {
     "name": "stdout",
     "output_type": "stream",
     "text": [
      "Empty DataFrame\n",
      "Columns: [tweet_id, jpg_url, img_num, p1, p1_conf, p1_dog, p2, p2_conf, p2_dog, p3, p3_conf, p3_dog]\n",
      "Index: []\n",
      "Empty DataFrame\n",
      "Columns: [tweet_id, jpg_url, img_num, p1, p1_conf, p1_dog, p2, p2_conf, p2_dog, p3, p3_conf, p3_dog]\n",
      "Index: []\n"
     ]
    }
   ],
   "source": [
    "print(doggo_pred[doggo_pred.tweet_id.isnull()])\n",
    "print(doggo_pred[doggo_pred.tweet_id.duplicated()])"
   ]
  },
  {
   "cell_type": "code",
   "execution_count": 17,
   "metadata": {},
   "outputs": [
    {
     "name": "stdout",
     "output_type": "stream",
     "text": [
      "<class 'pandas.core.frame.DataFrame'>\n",
      "RangeIndex: 2341 entries, 0 to 2340\n",
      "Data columns (total 3 columns):\n",
      "favorite_count    2341 non-null int64\n",
      "retweet_count     2341 non-null int64\n",
      "tweet_id          2341 non-null int64\n",
      "dtypes: int64(3)\n",
      "memory usage: 54.9 KB\n"
     ]
    }
   ],
   "source": [
    "additional_tweet_data.info()"
   ]
  },
  {
   "cell_type": "code",
   "execution_count": 18,
   "metadata": {},
   "outputs": [
    {
     "data": {
      "text/html": [
       "<div>\n",
       "<style>\n",
       "    .dataframe thead tr:only-child th {\n",
       "        text-align: right;\n",
       "    }\n",
       "\n",
       "    .dataframe thead th {\n",
       "        text-align: left;\n",
       "    }\n",
       "\n",
       "    .dataframe tbody tr th {\n",
       "        vertical-align: top;\n",
       "    }\n",
       "</style>\n",
       "<table border=\"1\" class=\"dataframe\">\n",
       "  <thead>\n",
       "    <tr style=\"text-align: right;\">\n",
       "      <th></th>\n",
       "      <th>favorite_count</th>\n",
       "      <th>retweet_count</th>\n",
       "      <th>tweet_id</th>\n",
       "    </tr>\n",
       "  </thead>\n",
       "  <tbody>\n",
       "    <tr>\n",
       "      <th>1575</th>\n",
       "      <td>3895</td>\n",
       "      <td>1469</td>\n",
       "      <td>686618349602762752</td>\n",
       "    </tr>\n",
       "    <tr>\n",
       "      <th>1302</th>\n",
       "      <td>2282</td>\n",
       "      <td>672</td>\n",
       "      <td>706593038911545345</td>\n",
       "    </tr>\n",
       "    <tr>\n",
       "      <th>1774</th>\n",
       "      <td>7272</td>\n",
       "      <td>3899</td>\n",
       "      <td>677547928504967168</td>\n",
       "    </tr>\n",
       "    <tr>\n",
       "      <th>2187</th>\n",
       "      <td>907</td>\n",
       "      <td>550</td>\n",
       "      <td>668643542311546881</td>\n",
       "    </tr>\n",
       "    <tr>\n",
       "      <th>584</th>\n",
       "      <td>0</td>\n",
       "      <td>8690</td>\n",
       "      <td>798701998996647937</td>\n",
       "    </tr>\n",
       "    <tr>\n",
       "      <th>1123</th>\n",
       "      <td>4796</td>\n",
       "      <td>1793</td>\n",
       "      <td>728035342121635841</td>\n",
       "    </tr>\n",
       "    <tr>\n",
       "      <th>704</th>\n",
       "      <td>32461</td>\n",
       "      <td>11993</td>\n",
       "      <td>783839966405230592</td>\n",
       "    </tr>\n",
       "  </tbody>\n",
       "</table>\n",
       "</div>"
      ],
      "text/plain": [
       "      favorite_count  retweet_count            tweet_id\n",
       "1575            3895           1469  686618349602762752\n",
       "1302            2282            672  706593038911545345\n",
       "1774            7272           3899  677547928504967168\n",
       "2187             907            550  668643542311546881\n",
       "584                0           8690  798701998996647937\n",
       "1123            4796           1793  728035342121635841\n",
       "704            32461          11993  783839966405230592"
      ]
     },
     "execution_count": 18,
     "metadata": {},
     "output_type": "execute_result"
    }
   ],
   "source": [
    "additional_tweet_data.sample(7)"
   ]
  },
  {
   "cell_type": "code",
   "execution_count": 19,
   "metadata": {},
   "outputs": [
    {
     "data": {
      "text/html": [
       "<div>\n",
       "<style>\n",
       "    .dataframe thead tr:only-child th {\n",
       "        text-align: right;\n",
       "    }\n",
       "\n",
       "    .dataframe thead th {\n",
       "        text-align: left;\n",
       "    }\n",
       "\n",
       "    .dataframe tbody tr th {\n",
       "        vertical-align: top;\n",
       "    }\n",
       "</style>\n",
       "<table border=\"1\" class=\"dataframe\">\n",
       "  <thead>\n",
       "    <tr style=\"text-align: right;\">\n",
       "      <th></th>\n",
       "      <th>favorite_count</th>\n",
       "      <th>retweet_count</th>\n",
       "      <th>tweet_id</th>\n",
       "    </tr>\n",
       "  </thead>\n",
       "  <tbody>\n",
       "    <tr>\n",
       "      <th>count</th>\n",
       "      <td>2341.000000</td>\n",
       "      <td>2341.000000</td>\n",
       "      <td>2.341000e+03</td>\n",
       "    </tr>\n",
       "    <tr>\n",
       "      <th>mean</th>\n",
       "      <td>8027.204613</td>\n",
       "      <td>2970.398120</td>\n",
       "      <td>7.422089e+17</td>\n",
       "    </tr>\n",
       "    <tr>\n",
       "      <th>std</th>\n",
       "      <td>12357.261803</td>\n",
       "      <td>4976.988206</td>\n",
       "      <td>6.833609e+16</td>\n",
       "    </tr>\n",
       "    <tr>\n",
       "      <th>min</th>\n",
       "      <td>0.000000</td>\n",
       "      <td>0.000000</td>\n",
       "      <td>6.660209e+17</td>\n",
       "    </tr>\n",
       "    <tr>\n",
       "      <th>25%</th>\n",
       "      <td>1390.000000</td>\n",
       "      <td>597.000000</td>\n",
       "      <td>6.783411e+17</td>\n",
       "    </tr>\n",
       "    <tr>\n",
       "      <th>50%</th>\n",
       "      <td>3505.000000</td>\n",
       "      <td>1390.000000</td>\n",
       "      <td>7.186133e+17</td>\n",
       "    </tr>\n",
       "    <tr>\n",
       "      <th>75%</th>\n",
       "      <td>9862.000000</td>\n",
       "      <td>3468.000000</td>\n",
       "      <td>7.986979e+17</td>\n",
       "    </tr>\n",
       "    <tr>\n",
       "      <th>max</th>\n",
       "      <td>164839.000000</td>\n",
       "      <td>84529.000000</td>\n",
       "      <td>8.924206e+17</td>\n",
       "    </tr>\n",
       "  </tbody>\n",
       "</table>\n",
       "</div>"
      ],
      "text/plain": [
       "       favorite_count  retweet_count      tweet_id\n",
       "count     2341.000000    2341.000000  2.341000e+03\n",
       "mean      8027.204613    2970.398120  7.422089e+17\n",
       "std      12357.261803    4976.988206  6.833609e+16\n",
       "min          0.000000       0.000000  6.660209e+17\n",
       "25%       1390.000000     597.000000  6.783411e+17\n",
       "50%       3505.000000    1390.000000  7.186133e+17\n",
       "75%       9862.000000    3468.000000  7.986979e+17\n",
       "max     164839.000000   84529.000000  8.924206e+17"
      ]
     },
     "execution_count": 19,
     "metadata": {},
     "output_type": "execute_result"
    }
   ],
   "source": [
    "additional_tweet_data.describe()"
   ]
  },
  {
   "cell_type": "markdown",
   "metadata": {},
   "source": [
    "### Data Structure issues\n",
    "\n",
    "-  All three dataframes need to be merged into one dataframe\n",
    "- The columns labeled doggo, pupper, puppo and floofer are values and should be combined into a single column. \n",
    "\n"
   ]
  },
  {
   "cell_type": "markdown",
   "metadata": {},
   "source": [
    "### Data Quality Issues\n",
    "\n",
    "- The columns tweet_id, in_reply_to_status_id, in_reply_to_user_id, retweeted_status_id, retweeted_status_user_id, and timestamp, in the tweet_archive dataframe are the wrong data type.  \n",
    "are the wrong data type.\n",
    "- 'tweet_id' is the wrong data type in the additional_tweet an doggo_pred dataframes. \n",
    "- Entries which are not pictures of dogs \n",
    "- Several tweets have been deleted and are missing from the api data\n",
    "- Missing data from the dog breed preidictions \n",
    "- Incorrect dog names such as 'a', 'the', etc\n",
    "- Only looking for original ratings "
   ]
  },
  {
   "cell_type": "markdown",
   "metadata": {},
   "source": [
    "## Cleaning Data"
   ]
  },
  {
   "cell_type": "code",
   "execution_count": 20,
   "metadata": {},
   "outputs": [],
   "source": [
    "# Create copies of original dataframes. \n",
    "\n",
    "tweet_archive_clean = tweet_archive.copy()\n",
    "additional_tweet_data_clean = additional_tweet_data.copy()\n",
    "doggo_pred_clean = doggo_pred.copy()"
   ]
  },
  {
   "cell_type": "markdown",
   "metadata": {},
   "source": [
    "### Data Structure Tasks"
   ]
  },
  {
   "cell_type": "markdown",
   "metadata": {},
   "source": [
    "#### Define\n",
    "\n",
    "1) merge 'doggo', 'puppo' etc columns into one. "
   ]
  },
  {
   "cell_type": "markdown",
   "metadata": {},
   "source": [
    "#### Code"
   ]
  },
  {
   "cell_type": "code",
   "execution_count": 21,
   "metadata": {},
   "outputs": [],
   "source": [
    "#Create a list of our original tweet ids, with no duplicates.\n",
    "tweet_ids = tweet_archive_clean.tweet_id.tolist()\n",
    "\n",
    "#Merging the doggo, pupper, puppo, and floofer columns\n",
    "tweet_archive_clean =pd.melt(tweet_archive_clean, id_vars = ['tweet_id', 'in_reply_to_status_id', 'in_reply_to_user_id', 'retweeted_status_id',\n",
    "                                       'retweeted_status_user_id', 'timestamp', 'source', 'text', 'retweeted_status_timestamp',\n",
    "                                       'expanded_urls', 'rating_numerator', 'rating_denominator', 'name'], \n",
    "        var_name = 'type_toberemoved', value_name = 'type')\n",
    "tweet_archive_clean = tweet_archive_clean.drop('type_toberemoved', axis =1)"
   ]
  },
  {
   "cell_type": "code",
   "execution_count": 22,
   "metadata": {},
   "outputs": [],
   "source": [
    "for idx, twtid in enumerate(tweet_ids):\n",
    "    dog_tweets = tweet_archive_clean[tweet_archive_clean.tweet_id == twtid]\n",
    "    \n",
    "    \n",
    "#if a tweet has any type value(s) that is not 'None', we will, set the first one to whatever value(s) it is\n",
    "# and drop the other three rows.\n",
    "    if dog_tweets.type.values.tolist()[0] != 'None':\n",
    "        doge_type = dog_tweets[dog_tweets.type != 'None'].type.values.tolist()\n",
    "        tweet_archive_clean.loc[idx, 'type'] = ','.join(doge_type)\n",
    "        tweet_archive_clean = tweet_archive_clean.drop(labels = dog_tweets.index.values.tolist()[1:], axis = 0)\n",
    "        continue\n",
    "        \n",
    "    if dog_tweets.type.values.tolist()[1] != 'None':\n",
    "        doge_type = dog_tweets[dog_tweets.type != 'None'].type.values.tolist()\n",
    "        tweet_archive_clean.loc[idx, 'type'] = ','.join(doge_type)\n",
    "        tweet_archive_clean = tweet_archive_clean.drop(labels = dog_tweets.index.values.tolist()[1:], axis = 0)\n",
    "        continue\n",
    "        \n",
    "    if dog_tweets.type.values.tolist()[2] != 'None':\n",
    "        doge_type = dog_tweets[dog_tweets.type != 'None'].type.values.tolist()\n",
    "        tweet_archive_clean.loc[idx, 'type'] = ','.join(doge_type)\n",
    "        tweet_archive_clean = tweet_archive_clean.drop(labels = dog_tweets.index.values.tolist()[1:], axis = 0)\n",
    "        continue\n",
    "        \n",
    "    if dog_tweets.type.values.tolist()[3] != 'None':\n",
    "        doge_type = dog_tweets[dog_tweets.type != 'None'].type.values.tolist()\n",
    "        tweet_archive_clean.loc[idx, 'type'] = ','.join(doge_type)\n",
    "        tweet_archive_clean = tweet_archive_clean.drop(labels = dog_tweets.index.values.tolist()[1:], axis = 0)\n",
    "        continue\n",
    "        \n",
    "#if a tweet has type value 'None' for all four types, we will just drop the last three rows\n",
    "    else: \n",
    "        tweet_archive_clean = tweet_archive_clean.drop(labels = dog_tweets.index.values.tolist()[1:], axis = 0)"
   ]
  },
  {
   "cell_type": "markdown",
   "metadata": {},
   "source": [
    "#### Test"
   ]
  },
  {
   "cell_type": "code",
   "execution_count": 23,
   "metadata": {},
   "outputs": [
    {
     "name": "stdout",
     "output_type": "stream",
     "text": [
      "None             1976\n",
      "pupper            245\n",
      "doggo              83\n",
      "puppo              29\n",
      "doggo,pupper       12\n",
      "floofer             9\n",
      "doggo,floofer       1\n",
      "doggo,puppo         1\n",
      "Name: type, dtype: int64\n"
     ]
    }
   ],
   "source": [
    "#Testing \n",
    "print(tweet_archive_clean.type.value_counts())\n",
    "vc_type=tweet_archive_clean.type.value_counts()"
   ]
  },
  {
   "cell_type": "markdown",
   "metadata": {},
   "source": [
    "#### Define \n",
    "\n",
    "2) Merge 'additional_tweet', 'tweet_archive' and 'doggo_pred' into a singular  dataframe. "
   ]
  },
  {
   "cell_type": "markdown",
   "metadata": {},
   "source": [
    "#### Code "
   ]
  },
  {
   "cell_type": "code",
   "execution_count": 24,
   "metadata": {},
   "outputs": [],
   "source": [
    "#Merging tweet_archive & additional_tweet_data from api.\n",
    "\n",
    "tweet_archive_clean = pd.merge(tweet_archive_clean, additional_tweet_data_clean, on = ['tweet_id'], how = 'inner')"
   ]
  },
  {
   "cell_type": "code",
   "execution_count": 25,
   "metadata": {},
   "outputs": [],
   "source": [
    "#Merging again.\n",
    "tweet_archive_clean = pd.merge(tweet_archive_clean, doggo_pred, on ='tweet_id', how = 'inner')"
   ]
  },
  {
   "cell_type": "markdown",
   "metadata": {},
   "source": [
    "#### Test"
   ]
  },
  {
   "cell_type": "code",
   "execution_count": 26,
   "metadata": {},
   "outputs": [
    {
     "name": "stdout",
     "output_type": "stream",
     "text": [
      "<class 'pandas.core.frame.DataFrame'>\n",
      "Int64Index: 2067 entries, 0 to 2066\n",
      "Data columns (total 27 columns):\n",
      "tweet_id                      2067 non-null int64\n",
      "in_reply_to_status_id         23 non-null float64\n",
      "in_reply_to_user_id           23 non-null float64\n",
      "retweeted_status_id           74 non-null float64\n",
      "retweeted_status_user_id      74 non-null float64\n",
      "timestamp                     2067 non-null object\n",
      "source                        2067 non-null object\n",
      "text                          2067 non-null object\n",
      "retweeted_status_timestamp    74 non-null object\n",
      "expanded_urls                 2067 non-null object\n",
      "rating_numerator              2067 non-null int64\n",
      "rating_denominator            2067 non-null int64\n",
      "name                          2067 non-null object\n",
      "type                          2067 non-null object\n",
      "favorite_count                2067 non-null int64\n",
      "retweet_count                 2067 non-null int64\n",
      "jpg_url                       2067 non-null object\n",
      "img_num                       2067 non-null int64\n",
      "p1                            2067 non-null object\n",
      "p1_conf                       2067 non-null float64\n",
      "p1_dog                        2067 non-null bool\n",
      "p2                            2067 non-null object\n",
      "p2_conf                       2067 non-null float64\n",
      "p2_dog                        2067 non-null bool\n",
      "p3                            2067 non-null object\n",
      "p3_conf                       2067 non-null float64\n",
      "p3_dog                        2067 non-null bool\n",
      "dtypes: bool(3), float64(7), int64(6), object(11)\n",
      "memory usage: 409.8+ KB\n"
     ]
    }
   ],
   "source": [
    "#Test\n",
    "tweet_archive_clean.info()"
   ]
  },
  {
   "cell_type": "markdown",
   "metadata": {},
   "source": [
    "### Quality Tasks"
   ]
  },
  {
   "cell_type": "markdown",
   "metadata": {},
   "source": [
    "1) We only want original ratings, so no tweet replies or retweets. \n",
    "\n",
    "2) In 'tweet_archive' the columns, tweet_id, in_reply_to_status_id, in_reply_to_user_id, retweeted_status_id,in_reply_to_user_id, retweeted_status_id, retweeted_status_user_id, and timestamp have the wrong data type \n",
    "\n",
    "3) There are a few tweets missing from the API data\n",
    "\n",
    "4) Missing data for the dog breed predictions \n",
    "\n",
    "5) Fake or typo dog names in the 'name' column (the, an, this)"
   ]
  },
  {
   "cell_type": "markdown",
   "metadata": {},
   "source": [
    "#### Define"
   ]
  },
  {
   "cell_type": "markdown",
   "metadata": {},
   "source": [
    "1) We are only interested in the tweets that were official ratings of @dog_rates. Practically, this means we only want tweets that do not have a in_reply_status_id or a retweeted_statusid. We are also going to drop all associated columns. "
   ]
  },
  {
   "cell_type": "markdown",
   "metadata": {},
   "source": [
    "#### Code"
   ]
  },
  {
   "cell_type": "code",
   "execution_count": 27,
   "metadata": {},
   "outputs": [
    {
     "data": {
      "text/plain": [
       "122    863079547188785154\n",
       "150    856526610513747968\n",
       "199    844979544864018432\n",
       "453    802265048156610565\n",
       "826    746906459439529985\n",
       "Name: tweet_id, dtype: int64"
      ]
     },
     "execution_count": 27,
     "metadata": {},
     "output_type": "execute_result"
    }
   ],
   "source": [
    "tweet_archive_clean[~tweet_archive_clean.in_reply_to_status_id.isnull()].tweet_id.head()\n"
   ]
  },
  {
   "cell_type": "code",
   "execution_count": 28,
   "metadata": {},
   "outputs": [],
   "source": [
    "#dropping reply tweet\n",
    "tweet_archive_clean = tweet_archive_clean[tweet_archive_clean.in_reply_to_status_id.isnull()]\n",
    "\n",
    "#dropping retweeted tweets\n",
    "tweet_archive_clean = tweet_archive_clean[tweet_archive_clean.retweeted_status_id.isnull()]\n",
    "\n",
    "#dropping columns related to tweets that were retweeted or reply tweets\n",
    "tweet_archive_clean = tweet_archive_clean.drop(labels = ['in_reply_to_status_id', 'in_reply_to_user_id', 'retweeted_status_id',\n",
    "                           'retweeted_status_user_id', 'retweeted_status_timestamp'], axis = 1 )"
   ]
  },
  {
   "cell_type": "markdown",
   "metadata": {},
   "source": [
    "#### Test"
   ]
  },
  {
   "cell_type": "code",
   "execution_count": 29,
   "metadata": {},
   "outputs": [
    {
     "name": "stdout",
     "output_type": "stream",
     "text": [
      "<class 'pandas.core.frame.DataFrame'>\n",
      "Int64Index: 1970 entries, 0 to 2066\n",
      "Data columns (total 22 columns):\n",
      "tweet_id              1970 non-null int64\n",
      "timestamp             1970 non-null object\n",
      "source                1970 non-null object\n",
      "text                  1970 non-null object\n",
      "expanded_urls         1970 non-null object\n",
      "rating_numerator      1970 non-null int64\n",
      "rating_denominator    1970 non-null int64\n",
      "name                  1970 non-null object\n",
      "type                  1970 non-null object\n",
      "favorite_count        1970 non-null int64\n",
      "retweet_count         1970 non-null int64\n",
      "jpg_url               1970 non-null object\n",
      "img_num               1970 non-null int64\n",
      "p1                    1970 non-null object\n",
      "p1_conf               1970 non-null float64\n",
      "p1_dog                1970 non-null bool\n",
      "p2                    1970 non-null object\n",
      "p2_conf               1970 non-null float64\n",
      "p2_dog                1970 non-null bool\n",
      "p3                    1970 non-null object\n",
      "p3_conf               1970 non-null float64\n",
      "p3_dog                1970 non-null bool\n",
      "dtypes: bool(3), float64(3), int64(6), object(10)\n",
      "memory usage: 313.6+ KB\n"
     ]
    }
   ],
   "source": [
    "tweet_archive_clean.info()"
   ]
  },
  {
   "cell_type": "markdown",
   "metadata": {},
   "source": [
    "#### Define"
   ]
  },
  {
   "cell_type": "markdown",
   "metadata": {},
   "source": [
    "2) Convert the tweet_id to string and timestamp to datetime. "
   ]
  },
  {
   "cell_type": "markdown",
   "metadata": {},
   "source": [
    "#### Code"
   ]
  },
  {
   "cell_type": "code",
   "execution_count": 30,
   "metadata": {},
   "outputs": [],
   "source": [
    "#converting tweet_id to string\n",
    "tweet_archive_clean.tweet_id = tweet_archive_clean.tweet_id.astype('str')\n",
    "\n",
    "#converting timestamp to datetime\n",
    "tweet_archive_clean.timestamp = pd.to_datetime(tweet_archive_clean.timestamp)"
   ]
  },
  {
   "cell_type": "markdown",
   "metadata": {},
   "source": [
    "#### Test"
   ]
  },
  {
   "cell_type": "code",
   "execution_count": 31,
   "metadata": {},
   "outputs": [
    {
     "name": "stdout",
     "output_type": "stream",
     "text": [
      "<class 'pandas.core.frame.DataFrame'>\n",
      "Int64Index: 1970 entries, 0 to 2066\n",
      "Data columns (total 22 columns):\n",
      "tweet_id              1970 non-null object\n",
      "timestamp             1970 non-null datetime64[ns]\n",
      "source                1970 non-null object\n",
      "text                  1970 non-null object\n",
      "expanded_urls         1970 non-null object\n",
      "rating_numerator      1970 non-null int64\n",
      "rating_denominator    1970 non-null int64\n",
      "name                  1970 non-null object\n",
      "type                  1970 non-null object\n",
      "favorite_count        1970 non-null int64\n",
      "retweet_count         1970 non-null int64\n",
      "jpg_url               1970 non-null object\n",
      "img_num               1970 non-null int64\n",
      "p1                    1970 non-null object\n",
      "p1_conf               1970 non-null float64\n",
      "p1_dog                1970 non-null bool\n",
      "p2                    1970 non-null object\n",
      "p2_conf               1970 non-null float64\n",
      "p2_dog                1970 non-null bool\n",
      "p3                    1970 non-null object\n",
      "p3_conf               1970 non-null float64\n",
      "p3_dog                1970 non-null bool\n",
      "dtypes: bool(3), datetime64[ns](1), float64(3), int64(5), object(10)\n",
      "memory usage: 313.6+ KB\n"
     ]
    },
    {
     "data": {
      "text/html": [
       "<div>\n",
       "<style>\n",
       "    .dataframe thead tr:only-child th {\n",
       "        text-align: right;\n",
       "    }\n",
       "\n",
       "    .dataframe thead th {\n",
       "        text-align: left;\n",
       "    }\n",
       "\n",
       "    .dataframe tbody tr th {\n",
       "        vertical-align: top;\n",
       "    }\n",
       "</style>\n",
       "<table border=\"1\" class=\"dataframe\">\n",
       "  <thead>\n",
       "    <tr style=\"text-align: right;\">\n",
       "      <th></th>\n",
       "      <th>tweet_id</th>\n",
       "      <th>timestamp</th>\n",
       "      <th>source</th>\n",
       "      <th>text</th>\n",
       "      <th>expanded_urls</th>\n",
       "      <th>rating_numerator</th>\n",
       "      <th>rating_denominator</th>\n",
       "      <th>name</th>\n",
       "      <th>type</th>\n",
       "      <th>favorite_count</th>\n",
       "      <th>...</th>\n",
       "      <th>img_num</th>\n",
       "      <th>p1</th>\n",
       "      <th>p1_conf</th>\n",
       "      <th>p1_dog</th>\n",
       "      <th>p2</th>\n",
       "      <th>p2_conf</th>\n",
       "      <th>p2_dog</th>\n",
       "      <th>p3</th>\n",
       "      <th>p3_conf</th>\n",
       "      <th>p3_dog</th>\n",
       "    </tr>\n",
       "  </thead>\n",
       "  <tbody>\n",
       "    <tr>\n",
       "      <th>910</th>\n",
       "      <td>733460102733135873</td>\n",
       "      <td>2016-05-20 00:51:30</td>\n",
       "      <td>&lt;a href=\"http://twitter.com/download/iphone\" r...</td>\n",
       "      <td>This is Hermione. Her face is as old as time. ...</td>\n",
       "      <td>https://twitter.com/dog_rates/status/733460102...</td>\n",
       "      <td>11</td>\n",
       "      <td>10</td>\n",
       "      <td>Hermione</td>\n",
       "      <td>None</td>\n",
       "      <td>4448</td>\n",
       "      <td>...</td>\n",
       "      <td>1</td>\n",
       "      <td>chow</td>\n",
       "      <td>0.931275</td>\n",
       "      <td>True</td>\n",
       "      <td>beaver</td>\n",
       "      <td>0.028831</td>\n",
       "      <td>False</td>\n",
       "      <td>dhole</td>\n",
       "      <td>0.017379</td>\n",
       "      <td>False</td>\n",
       "    </tr>\n",
       "    <tr>\n",
       "      <th>56</th>\n",
       "      <td>880095782870896641</td>\n",
       "      <td>2017-06-28 16:09:20</td>\n",
       "      <td>&lt;a href=\"http://twitter.com/download/iphone\" r...</td>\n",
       "      <td>Please don't send in photos without dogs in th...</td>\n",
       "      <td>https://twitter.com/dog_rates/status/880095782...</td>\n",
       "      <td>11</td>\n",
       "      <td>10</td>\n",
       "      <td>None</td>\n",
       "      <td>None</td>\n",
       "      <td>27379</td>\n",
       "      <td>...</td>\n",
       "      <td>1</td>\n",
       "      <td>miniature_pinscher</td>\n",
       "      <td>0.120298</td>\n",
       "      <td>True</td>\n",
       "      <td>Rhodesian_ridgeback</td>\n",
       "      <td>0.106395</td>\n",
       "      <td>True</td>\n",
       "      <td>beagle</td>\n",
       "      <td>0.106073</td>\n",
       "      <td>True</td>\n",
       "    </tr>\n",
       "    <tr>\n",
       "      <th>1854</th>\n",
       "      <td>670037189829525505</td>\n",
       "      <td>2015-11-27 00:31:29</td>\n",
       "      <td>&lt;a href=\"http://twitter.com/download/iphone\" r...</td>\n",
       "      <td>Awesome dog here. Not sure where it is tho. Sp...</td>\n",
       "      <td>https://twitter.com/dog_rates/status/670037189...</td>\n",
       "      <td>5</td>\n",
       "      <td>10</td>\n",
       "      <td>None</td>\n",
       "      <td>None</td>\n",
       "      <td>600</td>\n",
       "      <td>...</td>\n",
       "      <td>1</td>\n",
       "      <td>pot</td>\n",
       "      <td>0.273767</td>\n",
       "      <td>False</td>\n",
       "      <td>tray</td>\n",
       "      <td>0.092888</td>\n",
       "      <td>False</td>\n",
       "      <td>doormat</td>\n",
       "      <td>0.050728</td>\n",
       "      <td>False</td>\n",
       "    </tr>\n",
       "    <tr>\n",
       "      <th>1673</th>\n",
       "      <td>673583129559498752</td>\n",
       "      <td>2015-12-06 19:21:47</td>\n",
       "      <td>&lt;a href=\"http://twitter.com/download/iphone\" r...</td>\n",
       "      <td>This is Sandy. She loves her spot by the tree....</td>\n",
       "      <td>https://twitter.com/dog_rates/status/673583129...</td>\n",
       "      <td>11</td>\n",
       "      <td>10</td>\n",
       "      <td>Sandy</td>\n",
       "      <td>None</td>\n",
       "      <td>1223</td>\n",
       "      <td>...</td>\n",
       "      <td>1</td>\n",
       "      <td>Arctic_fox</td>\n",
       "      <td>0.153271</td>\n",
       "      <td>False</td>\n",
       "      <td>golden_retriever</td>\n",
       "      <td>0.113946</td>\n",
       "      <td>True</td>\n",
       "      <td>borzoi</td>\n",
       "      <td>0.110718</td>\n",
       "      <td>True</td>\n",
       "    </tr>\n",
       "    <tr>\n",
       "      <th>657</th>\n",
       "      <td>770655142660169732</td>\n",
       "      <td>2016-08-30 16:11:18</td>\n",
       "      <td>&lt;a href=\"http://twitter.com/download/iphone\" r...</td>\n",
       "      <td>We only rate dogs. Pls stop sending in non-can...</td>\n",
       "      <td>https://twitter.com/dog_rates/status/770655142...</td>\n",
       "      <td>11</td>\n",
       "      <td>10</td>\n",
       "      <td>very</td>\n",
       "      <td>None</td>\n",
       "      <td>7863</td>\n",
       "      <td>...</td>\n",
       "      <td>1</td>\n",
       "      <td>Madagascar_cat</td>\n",
       "      <td>0.494803</td>\n",
       "      <td>False</td>\n",
       "      <td>skunk</td>\n",
       "      <td>0.161184</td>\n",
       "      <td>False</td>\n",
       "      <td>paper_towel</td>\n",
       "      <td>0.091572</td>\n",
       "      <td>False</td>\n",
       "    </tr>\n",
       "  </tbody>\n",
       "</table>\n",
       "<p>5 rows × 22 columns</p>\n",
       "</div>"
      ],
      "text/plain": [
       "                tweet_id           timestamp  \\\n",
       "910   733460102733135873 2016-05-20 00:51:30   \n",
       "56    880095782870896641 2017-06-28 16:09:20   \n",
       "1854  670037189829525505 2015-11-27 00:31:29   \n",
       "1673  673583129559498752 2015-12-06 19:21:47   \n",
       "657   770655142660169732 2016-08-30 16:11:18   \n",
       "\n",
       "                                                 source  \\\n",
       "910   <a href=\"http://twitter.com/download/iphone\" r...   \n",
       "56    <a href=\"http://twitter.com/download/iphone\" r...   \n",
       "1854  <a href=\"http://twitter.com/download/iphone\" r...   \n",
       "1673  <a href=\"http://twitter.com/download/iphone\" r...   \n",
       "657   <a href=\"http://twitter.com/download/iphone\" r...   \n",
       "\n",
       "                                                   text  \\\n",
       "910   This is Hermione. Her face is as old as time. ...   \n",
       "56    Please don't send in photos without dogs in th...   \n",
       "1854  Awesome dog here. Not sure where it is tho. Sp...   \n",
       "1673  This is Sandy. She loves her spot by the tree....   \n",
       "657   We only rate dogs. Pls stop sending in non-can...   \n",
       "\n",
       "                                          expanded_urls  rating_numerator  \\\n",
       "910   https://twitter.com/dog_rates/status/733460102...                11   \n",
       "56    https://twitter.com/dog_rates/status/880095782...                11   \n",
       "1854  https://twitter.com/dog_rates/status/670037189...                 5   \n",
       "1673  https://twitter.com/dog_rates/status/673583129...                11   \n",
       "657   https://twitter.com/dog_rates/status/770655142...                11   \n",
       "\n",
       "      rating_denominator      name  type  favorite_count  ...    img_num  \\\n",
       "910                   10  Hermione  None            4448  ...          1   \n",
       "56                    10      None  None           27379  ...          1   \n",
       "1854                  10      None  None             600  ...          1   \n",
       "1673                  10     Sandy  None            1223  ...          1   \n",
       "657                   10      very  None            7863  ...          1   \n",
       "\n",
       "                      p1   p1_conf p1_dog                   p2   p2_conf  \\\n",
       "910                 chow  0.931275   True               beaver  0.028831   \n",
       "56    miniature_pinscher  0.120298   True  Rhodesian_ridgeback  0.106395   \n",
       "1854                 pot  0.273767  False                 tray  0.092888   \n",
       "1673          Arctic_fox  0.153271  False     golden_retriever  0.113946   \n",
       "657       Madagascar_cat  0.494803  False                skunk  0.161184   \n",
       "\n",
       "     p2_dog           p3   p3_conf p3_dog  \n",
       "910   False        dhole  0.017379  False  \n",
       "56     True       beagle  0.106073   True  \n",
       "1854  False      doormat  0.050728  False  \n",
       "1673   True       borzoi  0.110718   True  \n",
       "657   False  paper_towel  0.091572  False  \n",
       "\n",
       "[5 rows x 22 columns]"
      ]
     },
     "execution_count": 31,
     "metadata": {},
     "output_type": "execute_result"
    }
   ],
   "source": [
    "tweet_archive_clean.info()\n",
    "tweet_archive_clean.sample(5)"
   ]
  },
  {
   "cell_type": "markdown",
   "metadata": {},
   "source": [
    "#### Define"
   ]
  },
  {
   "cell_type": "markdown",
   "metadata": {},
   "source": [
    "3) Handling deleted tweets  \n",
    "\n",
    "We have already dealt with the deleted tweets, through the way of the merging of the dataframes."
   ]
  },
  {
   "cell_type": "markdown",
   "metadata": {},
   "source": [
    "#### Test "
   ]
  },
  {
   "cell_type": "code",
   "execution_count": 32,
   "metadata": {},
   "outputs": [
    {
     "ename": "NameError",
     "evalue": "name 'deleted_tweets' is not defined",
     "output_type": "error",
     "traceback": [
      "\u001b[0;31m---------------------------------------------------------------------------\u001b[0m",
      "\u001b[0;31mNameError\u001b[0m                                 Traceback (most recent call last)",
      "\u001b[0;32m<ipython-input-32-c4de6d196e06>\u001b[0m in \u001b[0;36m<module>\u001b[0;34m()\u001b[0m\n\u001b[1;32m      1\u001b[0m \u001b[0;31m# Note this will only work if you queried API, Does not work with JSON File\u001b[0m\u001b[0;34m\u001b[0m\u001b[0;34m\u001b[0m\u001b[0m\n\u001b[1;32m      2\u001b[0m \u001b[0;34m\u001b[0m\u001b[0m\n\u001b[0;32m----> 3\u001b[0;31m \u001b[0;32mfor\u001b[0m \u001b[0mtweet\u001b[0m \u001b[0;32min\u001b[0m \u001b[0mdeleted_tweets\u001b[0m\u001b[0;34m:\u001b[0m\u001b[0;34m\u001b[0m\u001b[0m\n\u001b[0m\u001b[1;32m      4\u001b[0m     \u001b[0;32mif\u001b[0m \u001b[0mstr\u001b[0m\u001b[0;34m(\u001b[0m\u001b[0mtweet\u001b[0m\u001b[0;34m)\u001b[0m \u001b[0;32min\u001b[0m \u001b[0mtweet_archive_clean\u001b[0m\u001b[0;34m:\u001b[0m\u001b[0;34m\u001b[0m\u001b[0m\n\u001b[1;32m      5\u001b[0m         \u001b[0mprint\u001b[0m\u001b[0;34m(\u001b[0m\u001b[0;34m\"Oops! Something went wrong.\"\u001b[0m\u001b[0;34m)\u001b[0m\u001b[0;34m\u001b[0m\u001b[0m\n",
      "\u001b[0;31mNameError\u001b[0m: name 'deleted_tweets' is not defined"
     ]
    }
   ],
   "source": [
    "# Note this will only work if you queried API, Does not work with JSON File \n",
    "\n",
    "for tweet in deleted_tweets:\n",
    "    if str(tweet) in tweet_archive_clean:\n",
    "        print(\"Oops! Something went wrong.\")\n",
    "print('Done!')"
   ]
  },
  {
   "cell_type": "markdown",
   "metadata": {},
   "source": [
    "#### Define"
   ]
  },
  {
   "cell_type": "markdown",
   "metadata": {},
   "source": [
    "4) Drop rows that do not have a jpg_url column since they do not contain images. \n",
    "\n",
    "This also solves our issues with the missing data for the doggo predictions dataframe. Tweets with no images do not have images."
   ]
  },
  {
   "cell_type": "markdown",
   "metadata": {},
   "source": [
    "#### Code"
   ]
  },
  {
   "cell_type": "code",
   "execution_count": 33,
   "metadata": {},
   "outputs": [],
   "source": [
    "tweet_archive_clean=tweet_archive_clean[~tweet_archive_clean.jpg_url.isnull()]"
   ]
  },
  {
   "cell_type": "markdown",
   "metadata": {},
   "source": [
    "#### Test"
   ]
  },
  {
   "cell_type": "code",
   "execution_count": 34,
   "metadata": {},
   "outputs": [
    {
     "name": "stdout",
     "output_type": "stream",
     "text": [
      "<class 'pandas.core.frame.DataFrame'>\n",
      "Int64Index: 1970 entries, 0 to 2066\n",
      "Data columns (total 22 columns):\n",
      "tweet_id              1970 non-null object\n",
      "timestamp             1970 non-null datetime64[ns]\n",
      "source                1970 non-null object\n",
      "text                  1970 non-null object\n",
      "expanded_urls         1970 non-null object\n",
      "rating_numerator      1970 non-null int64\n",
      "rating_denominator    1970 non-null int64\n",
      "name                  1970 non-null object\n",
      "type                  1970 non-null object\n",
      "favorite_count        1970 non-null int64\n",
      "retweet_count         1970 non-null int64\n",
      "jpg_url               1970 non-null object\n",
      "img_num               1970 non-null int64\n",
      "p1                    1970 non-null object\n",
      "p1_conf               1970 non-null float64\n",
      "p1_dog                1970 non-null bool\n",
      "p2                    1970 non-null object\n",
      "p2_conf               1970 non-null float64\n",
      "p2_dog                1970 non-null bool\n",
      "p3                    1970 non-null object\n",
      "p3_conf               1970 non-null float64\n",
      "p3_dog                1970 non-null bool\n",
      "dtypes: bool(3), datetime64[ns](1), float64(3), int64(5), object(10)\n",
      "memory usage: 313.6+ KB\n"
     ]
    }
   ],
   "source": [
    "tweet_archive_clean.info()\n"
   ]
  },
  {
   "cell_type": "markdown",
   "metadata": {},
   "source": [
    "#### Define"
   ]
  },
  {
   "cell_type": "markdown",
   "metadata": {},
   "source": [
    " 5) Loop through names that are all lowercase or are 'None', and use a regex expression to further extract the name. If their name isn't included in the tweet, their name will be switched to 'None'."
   ]
  },
  {
   "cell_type": "markdown",
   "metadata": {},
   "source": [
    "#### Code"
   ]
  },
  {
   "cell_type": "code",
   "execution_count": 35,
   "metadata": {},
   "outputs": [],
   "source": [
    "#Since we've operated quite a bit we are going to reset our dataframe indexes. Ie, 1971 rows in dataframe \n",
    "#so last index will be 1970 and first will be 0. \n",
    "tweet_archive_clean.set_index(keys = [list(range(len(tweet_archive_clean.tweet_id)))], inplace = True)"
   ]
  },
  {
   "cell_type": "code",
   "execution_count": 36,
   "metadata": {},
   "outputs": [],
   "source": [
    "## looping through this enumerate function doesn't work unless we reset the indexes.\n",
    "wrong_names = []\n",
    "for idx, name in enumerate(tweet_archive_clean.name):\n",
    "    # We only want to investigate entries that either:\n",
    "    #don't have the first letter of the name capitalized, or weren't named\n",
    "    if name.islower() or name == 'None':\n",
    "        j = re.compile('(?:named\\s|name\\sis\\s)(\\w+)')\n",
    "        if j.findall(tweet_archive_clean.loc[idx,'text']):\n",
    "            tweet_archive_clean.loc[idx,'name'] = j.findall(tweet_archive_clean.loc[idx,'text'])[0]\n",
    "        # if they don't match the above pattern their name will be changed to 'None'\n",
    "        else:\n",
    "            tweet_archive_clean.loc[idx,'name'] = 'None'"
   ]
  },
  {
   "cell_type": "markdown",
   "metadata": {},
   "source": [
    "#### Test"
   ]
  },
  {
   "cell_type": "code",
   "execution_count": 37,
   "metadata": {},
   "outputs": [
    {
     "data": {
      "text/plain": [
       "None         593\n",
       "Oliver        10\n",
       "Charlie       10\n",
       "Lucy          10\n",
       "Cooper        10\n",
       "Tucker         9\n",
       "Penny          9\n",
       "Sadie          8\n",
       "Winston        8\n",
       "Daisy          7\n",
       "Toby           7\n",
       "Lola           7\n",
       "Bella          6\n",
       "Jax            6\n",
       "Koda           6\n",
       "Bo             6\n",
       "Stanley        6\n",
       "Milo           5\n",
       "Zoey           5\n",
       "Bailey         5\n",
       "Leo            5\n",
       "Louis          5\n",
       "Scout          5\n",
       "Oscar          5\n",
       "Buddy          5\n",
       "Chester        5\n",
       "Dave           5\n",
       "Rusty          5\n",
       "Cassie         4\n",
       "Reggie         4\n",
       "            ... \n",
       "Herschel       1\n",
       "Ricky          1\n",
       "Anakin         1\n",
       "Tyrus          1\n",
       "Jomathan       1\n",
       "Birf           1\n",
       "Kial           1\n",
       "Olaf           1\n",
       "Alejandro      1\n",
       "Rumble         1\n",
       "Florence       1\n",
       "Koko           1\n",
       "Bonaparte      1\n",
       "Spork          1\n",
       "Link           1\n",
       "Ebby           1\n",
       "Carter         1\n",
       "Lillie         1\n",
       "Miguel         1\n",
       "Tebow          1\n",
       "Aubie          1\n",
       "Marlee         1\n",
       "Hero           1\n",
       "Simba          1\n",
       "Joey           1\n",
       "Chaz           1\n",
       "Cilantro       1\n",
       "Laela          1\n",
       "Tito           1\n",
       "Lilah          1\n",
       "Name: name, Length: 936, dtype: int64"
      ]
     },
     "execution_count": 37,
     "metadata": {},
     "output_type": "execute_result"
    }
   ],
   "source": [
    "tweet_archive_clean.name.value_counts()"
   ]
  },
  {
   "cell_type": "markdown",
   "metadata": {},
   "source": [
    "## Data Reassessment \n",
    "\n",
    "Before doing the analysis, let's take one more look at the data."
   ]
  },
  {
   "cell_type": "code",
   "execution_count": 38,
   "metadata": {},
   "outputs": [
    {
     "name": "stdout",
     "output_type": "stream",
     "text": [
      "<class 'pandas.core.frame.DataFrame'>\n",
      "Int64Index: 1970 entries, 0 to 1969\n",
      "Data columns (total 22 columns):\n",
      "tweet_id              1970 non-null object\n",
      "timestamp             1970 non-null datetime64[ns]\n",
      "source                1970 non-null object\n",
      "text                  1970 non-null object\n",
      "expanded_urls         1970 non-null object\n",
      "rating_numerator      1970 non-null int64\n",
      "rating_denominator    1970 non-null int64\n",
      "name                  1970 non-null object\n",
      "type                  1970 non-null object\n",
      "favorite_count        1970 non-null int64\n",
      "retweet_count         1970 non-null int64\n",
      "jpg_url               1970 non-null object\n",
      "img_num               1970 non-null int64\n",
      "p1                    1970 non-null object\n",
      "p1_conf               1970 non-null float64\n",
      "p1_dog                1970 non-null bool\n",
      "p2                    1970 non-null object\n",
      "p2_conf               1970 non-null float64\n",
      "p2_dog                1970 non-null bool\n",
      "p3                    1970 non-null object\n",
      "p3_conf               1970 non-null float64\n",
      "p3_dog                1970 non-null bool\n",
      "dtypes: bool(3), datetime64[ns](1), float64(3), int64(5), object(10)\n",
      "memory usage: 393.6+ KB\n"
     ]
    },
    {
     "data": {
      "text/html": [
       "<div>\n",
       "<style>\n",
       "    .dataframe thead tr:only-child th {\n",
       "        text-align: right;\n",
       "    }\n",
       "\n",
       "    .dataframe thead th {\n",
       "        text-align: left;\n",
       "    }\n",
       "\n",
       "    .dataframe tbody tr th {\n",
       "        vertical-align: top;\n",
       "    }\n",
       "</style>\n",
       "<table border=\"1\" class=\"dataframe\">\n",
       "  <thead>\n",
       "    <tr style=\"text-align: right;\">\n",
       "      <th></th>\n",
       "      <th>tweet_id</th>\n",
       "      <th>timestamp</th>\n",
       "      <th>source</th>\n",
       "      <th>text</th>\n",
       "      <th>expanded_urls</th>\n",
       "      <th>rating_numerator</th>\n",
       "      <th>rating_denominator</th>\n",
       "      <th>name</th>\n",
       "      <th>type</th>\n",
       "      <th>favorite_count</th>\n",
       "      <th>...</th>\n",
       "      <th>img_num</th>\n",
       "      <th>p1</th>\n",
       "      <th>p1_conf</th>\n",
       "      <th>p1_dog</th>\n",
       "      <th>p2</th>\n",
       "      <th>p2_conf</th>\n",
       "      <th>p2_dog</th>\n",
       "      <th>p3</th>\n",
       "      <th>p3_conf</th>\n",
       "      <th>p3_dog</th>\n",
       "    </tr>\n",
       "  </thead>\n",
       "  <tbody>\n",
       "    <tr>\n",
       "      <th>1605</th>\n",
       "      <td>672968025906282496</td>\n",
       "      <td>2015-12-05 02:37:35</td>\n",
       "      <td>&lt;a href=\"http://twitter.com/download/iphone\" r...</td>\n",
       "      <td>This is Gustaf. He's a purebred Chevy Equinox....</td>\n",
       "      <td>https://twitter.com/dog_rates/status/672968025...</td>\n",
       "      <td>11</td>\n",
       "      <td>10</td>\n",
       "      <td>Gustaf</td>\n",
       "      <td>None</td>\n",
       "      <td>1348</td>\n",
       "      <td>...</td>\n",
       "      <td>1</td>\n",
       "      <td>toy_poodle</td>\n",
       "      <td>0.678046</td>\n",
       "      <td>True</td>\n",
       "      <td>miniature_poodle</td>\n",
       "      <td>0.160273</td>\n",
       "      <td>True</td>\n",
       "      <td>Airedale</td>\n",
       "      <td>0.065649</td>\n",
       "      <td>True</td>\n",
       "    </tr>\n",
       "    <tr>\n",
       "      <th>1069</th>\n",
       "      <td>701214700881756160</td>\n",
       "      <td>2016-02-21 01:19:47</td>\n",
       "      <td>&lt;a href=\"http://twitter.com/download/iphone\" r...</td>\n",
       "      <td>I'm not sure what's happening here, but it's p...</td>\n",
       "      <td>https://twitter.com/dog_rates/status/701214700...</td>\n",
       "      <td>12</td>\n",
       "      <td>10</td>\n",
       "      <td>None</td>\n",
       "      <td>None</td>\n",
       "      <td>12947</td>\n",
       "      <td>...</td>\n",
       "      <td>1</td>\n",
       "      <td>Chihuahua</td>\n",
       "      <td>0.615163</td>\n",
       "      <td>True</td>\n",
       "      <td>Pembroke</td>\n",
       "      <td>0.159509</td>\n",
       "      <td>True</td>\n",
       "      <td>basenji</td>\n",
       "      <td>0.084466</td>\n",
       "      <td>True</td>\n",
       "    </tr>\n",
       "    <tr>\n",
       "      <th>962</th>\n",
       "      <td>710658690886586372</td>\n",
       "      <td>2016-03-18 02:46:49</td>\n",
       "      <td>&lt;a href=\"http://twitter.com/download/iphone\" r...</td>\n",
       "      <td>Here's a brigade of puppers. All look very pre...</td>\n",
       "      <td>https://twitter.com/dog_rates/status/710658690...</td>\n",
       "      <td>80</td>\n",
       "      <td>80</td>\n",
       "      <td>None</td>\n",
       "      <td>None</td>\n",
       "      <td>2440</td>\n",
       "      <td>...</td>\n",
       "      <td>1</td>\n",
       "      <td>soft-coated_wheaten_terrier</td>\n",
       "      <td>0.948617</td>\n",
       "      <td>True</td>\n",
       "      <td>Dandie_Dinmont</td>\n",
       "      <td>0.018664</td>\n",
       "      <td>True</td>\n",
       "      <td>cairn</td>\n",
       "      <td>0.015943</td>\n",
       "      <td>True</td>\n",
       "    </tr>\n",
       "    <tr>\n",
       "      <th>841</th>\n",
       "      <td>731156023742988288</td>\n",
       "      <td>2016-05-13 16:15:54</td>\n",
       "      <td>&lt;a href=\"http://twitter.com/download/iphone\" r...</td>\n",
       "      <td>Say hello to this unbelievably well behaved sq...</td>\n",
       "      <td>https://twitter.com/dog_rates/status/731156023...</td>\n",
       "      <td>204</td>\n",
       "      <td>170</td>\n",
       "      <td>None</td>\n",
       "      <td>None</td>\n",
       "      <td>4049</td>\n",
       "      <td>...</td>\n",
       "      <td>1</td>\n",
       "      <td>lakeside</td>\n",
       "      <td>0.501767</td>\n",
       "      <td>False</td>\n",
       "      <td>breakwater</td>\n",
       "      <td>0.051351</td>\n",
       "      <td>False</td>\n",
       "      <td>king_penguin</td>\n",
       "      <td>0.049444</td>\n",
       "      <td>False</td>\n",
       "    </tr>\n",
       "    <tr>\n",
       "      <th>234</th>\n",
       "      <td>834786237630337024</td>\n",
       "      <td>2017-02-23 15:25:23</td>\n",
       "      <td>&lt;a href=\"http://twitter.com/download/iphone\" r...</td>\n",
       "      <td>This is Tobi. She is properly fetching her sho...</td>\n",
       "      <td>https://twitter.com/dog_rates/status/834786237...</td>\n",
       "      <td>13</td>\n",
       "      <td>10</td>\n",
       "      <td>Tobi</td>\n",
       "      <td>None</td>\n",
       "      <td>22402</td>\n",
       "      <td>...</td>\n",
       "      <td>1</td>\n",
       "      <td>Border_terrier</td>\n",
       "      <td>0.156276</td>\n",
       "      <td>True</td>\n",
       "      <td>Norwegian_elkhound</td>\n",
       "      <td>0.125912</td>\n",
       "      <td>True</td>\n",
       "      <td>Boston_bull</td>\n",
       "      <td>0.096624</td>\n",
       "      <td>True</td>\n",
       "    </tr>\n",
       "  </tbody>\n",
       "</table>\n",
       "<p>5 rows × 22 columns</p>\n",
       "</div>"
      ],
      "text/plain": [
       "                tweet_id           timestamp  \\\n",
       "1605  672968025906282496 2015-12-05 02:37:35   \n",
       "1069  701214700881756160 2016-02-21 01:19:47   \n",
       "962   710658690886586372 2016-03-18 02:46:49   \n",
       "841   731156023742988288 2016-05-13 16:15:54   \n",
       "234   834786237630337024 2017-02-23 15:25:23   \n",
       "\n",
       "                                                 source  \\\n",
       "1605  <a href=\"http://twitter.com/download/iphone\" r...   \n",
       "1069  <a href=\"http://twitter.com/download/iphone\" r...   \n",
       "962   <a href=\"http://twitter.com/download/iphone\" r...   \n",
       "841   <a href=\"http://twitter.com/download/iphone\" r...   \n",
       "234   <a href=\"http://twitter.com/download/iphone\" r...   \n",
       "\n",
       "                                                   text  \\\n",
       "1605  This is Gustaf. He's a purebred Chevy Equinox....   \n",
       "1069  I'm not sure what's happening here, but it's p...   \n",
       "962   Here's a brigade of puppers. All look very pre...   \n",
       "841   Say hello to this unbelievably well behaved sq...   \n",
       "234   This is Tobi. She is properly fetching her sho...   \n",
       "\n",
       "                                          expanded_urls  rating_numerator  \\\n",
       "1605  https://twitter.com/dog_rates/status/672968025...                11   \n",
       "1069  https://twitter.com/dog_rates/status/701214700...                12   \n",
       "962   https://twitter.com/dog_rates/status/710658690...                80   \n",
       "841   https://twitter.com/dog_rates/status/731156023...               204   \n",
       "234   https://twitter.com/dog_rates/status/834786237...                13   \n",
       "\n",
       "      rating_denominator    name  type  favorite_count  ...    img_num  \\\n",
       "1605                  10  Gustaf  None            1348  ...          1   \n",
       "1069                  10    None  None           12947  ...          1   \n",
       "962                   80    None  None            2440  ...          1   \n",
       "841                  170    None  None            4049  ...          1   \n",
       "234                   10    Tobi  None           22402  ...          1   \n",
       "\n",
       "                               p1   p1_conf p1_dog                  p2  \\\n",
       "1605                   toy_poodle  0.678046   True    miniature_poodle   \n",
       "1069                    Chihuahua  0.615163   True            Pembroke   \n",
       "962   soft-coated_wheaten_terrier  0.948617   True      Dandie_Dinmont   \n",
       "841                      lakeside  0.501767  False          breakwater   \n",
       "234                Border_terrier  0.156276   True  Norwegian_elkhound   \n",
       "\n",
       "       p2_conf p2_dog            p3   p3_conf p3_dog  \n",
       "1605  0.160273   True      Airedale  0.065649   True  \n",
       "1069  0.159509   True       basenji  0.084466   True  \n",
       "962   0.018664   True         cairn  0.015943   True  \n",
       "841   0.051351  False  king_penguin  0.049444  False  \n",
       "234   0.125912   True   Boston_bull  0.096624   True  \n",
       "\n",
       "[5 rows x 22 columns]"
      ]
     },
     "execution_count": 38,
     "metadata": {},
     "output_type": "execute_result"
    }
   ],
   "source": [
    "tweet_archive_clean.info()\n",
    "tweet_archive_clean.sample(5)"
   ]
  },
  {
   "cell_type": "code",
   "execution_count": 39,
   "metadata": {},
   "outputs": [
    {
     "name": "stdout",
     "output_type": "stream",
     "text": [
      "This is Gary. He couldn't miss this puppertunity for a selfie. Flawless focusing skills. 13/10 would boop intensely https://t.co/7CSWCl8I6s\n",
      "Meet Venti, a seemingly caffeinated puppoccino. She was just informed the weekend would include walks, pats and scritches. 13/10 much excite https://t.co/ejExJFq3ek\n",
      "Say hello to Lassie. She's celebrating #PrideMonth by being a splendid mix of astute and adorable. Proudly supupporting her owner. 13/10 https://t.co/uK6PNyeh9w\n",
      "This is Lili. She can't believe you betrayed her with bath time. Never looking you in the eye again. 12/10 would puppologize profusely https://t.co/9b9J46E86Z\n",
      "Here we have some incredible doggos for #K9VeteransDay. All brave as h*ck. Salute your dog in solidarity. 14/10 for all https://t.co/SVNMdFqKDL\n",
      "This is Lucy. She has a portrait of herself on her ear. Excellent for identification pupposes. 13/10 innovative af https://t.co/uNmxbL2lns\n",
      "Meet Jack. He's one of the rare doggos that doesn't mind baths. 11/10 click the link to see how you can help Jack!\n",
      "\n",
      "https://t.co/r4W111FzAq https://t.co/fQpYuMKG3p\n",
      "This is Duke. He is not a fan of the pupporazzi. 12/10 https://t.co/SgpBVYIL18\n",
      "You need to watch these two doggos argue through a cat door. Both 11/10 https://t.co/qEP31epKEV\n",
      "Here we are witnessing an isolated squad of bouncing doggos. Unbelievably rare for this time of year. 11/10 for all https://t.co/CCdlwiTwQf\n",
      "This is Dietrich. He hops at random. Other doggos don't understand him. It upsets him greatly. 8/10 would comfort https://t.co/U8cSRz8wzC\n",
      "This is one of the most reckless puppers I've ever seen. How she got a license in the first place is beyond me. 6/10 https://t.co/z5bAdtn9kd\n",
      "This is Arlen and Thumpelina. They are best pals. Cuddly af. 11/10 for both puppers https://t.co/VJgbgIzIHx\n",
      "Everybody stop what you're doing and watch these puppers enjoy summer. Both 13/10 https://t.co/wvjqSCN6iC\n",
      "Say hello to this unbelievably well behaved squad of doggos. 204/170 would try to pet all at once https://t.co/yGQI3He3xv\n",
      "Here are two lil cuddly puppers. Both 12/10 would snug like so much https://t.co/zO4eb7C4tG\n",
      "Happy Saturday here's 9 puppers on a bench. 99/90 good work everybody https://t.co/mpvaVxKmc1\n",
      "Here's a brigade of puppers. All look very prepared for whatever happens next. 80/80 https://t.co/0eb7R1Om12\n",
      "WeRateDogs stickers are here and they're 12/10! Use code \"puppers\" at checkout 🐶🐾\n",
      "\n",
      "Shop now: https://t.co/k5xsufRKYm https://t.co/ShXk46V13r\n",
      "Here is a whole flock of puppers.  60/50 I'll take the lot https://t.co/9dpcw6MdWa\n",
      "This golden is happy to refute the soft mouth egg test. Not a fan of sweeping generalizations. 11/10 #notallpuppers https://t.co/DgXYBDMM3E\n",
      "Someone help the girl is being mugged. Several are distracting her while two steal her shoes. Clever puppers 121/110 https://t.co/1zfnTJLt55\n",
      "Gang of fearless hoofed puppers here. Straight savages. Elevated for extra terror. Front one has killed before 6/10s https://t.co/jkCb25OWfh\n",
      "Meet Sadie. She fell asleep on the beach and her friends buried her. 10/10 can't trust fellow puppers these days https://t.co/LoKVvc1xAW\n",
      "This is Penny. Her tennis ball slowly rolled down her cone and into the pool. 8/10 bad things happen to good puppers https://t.co/YNWU7LeFgg\n",
      "Here we have uncovered an entire battalion of holiday puppers. Average of 11.26/10 https://t.co/eNm2S6p9BD\n",
      "Hope your Monday isn't too awful. Here's two baseball puppers. 11/10 for each https://t.co/dB0H9hdZai\n",
      "Here we have an entire platoon of puppers. Total score: 88/80 would pet all at once https://t.co/y93p6FLvVw\n",
      "Here's a handful of sleepy puppers. All look unaware of their surroundings. Lousy guard dogs. Still cute tho 11/10s https://t.co/lyXX3v5j4s\n",
      "Happy Friday. Here's some golden puppers. 12/10 for all https://t.co/wNkqAED6lG\n",
      "This is Rodman. He's getting destroyed by the surfs. Valiant effort though. 10/10 better than most puppers probably https://t.co/S8wCLemrNb\n",
      "Herd of wild dogs here. Not sure what they're trying to do. No real goals in life. 3/10 find your purpose puppers https://t.co/t5ih0VrK02\n",
      "This is Zoey. Her dreams of becoming a hippo ballerina don't look promising. 9/10 it'll be ok puppers https://t.co/kR1fqy4NKK\n"
     ]
    }
   ],
   "source": [
    "for t in tweet_archive_clean[tweet_archive_clean.type =='None'].text:\n",
    "    if 'doggo' in t:\n",
    "        print(t)\n",
    "    if 'puppo' in t:\n",
    "        print(t)\n",
    "    if 'pupper' in t:\n",
    "        print(t)\n",
    "    if 'floofer' in t:\n",
    "        print(t)"
   ]
  },
  {
   "cell_type": "markdown",
   "metadata": {},
   "source": [
    "### Reassessment Quality Issues \n",
    "\n",
    "- The columns  p1, p1_dog, p2, p2_dog, p3, p3_dog, rating_numerator, rating_denominator are the wrong data type. \n",
    "- Still some entries that are not pictures of dogs. \n",
    "- Some missing dog types. "
   ]
  },
  {
   "cell_type": "markdown",
   "metadata": {},
   "source": [
    "#### Define"
   ]
  },
  {
   "cell_type": "markdown",
   "metadata": {},
   "source": [
    "6) The variables p1, p2, and p3 need to be converted to the category data type. The variables p1_dog, p2_dog, p3_dog need to be converted to booleans and the variable rating_numerator needs to be converted to a float. "
   ]
  },
  {
   "cell_type": "markdown",
   "metadata": {},
   "source": [
    "#### Code"
   ]
  },
  {
   "cell_type": "code",
   "execution_count": 40,
   "metadata": {},
   "outputs": [],
   "source": [
    "#Switch type, p1 ,p2, and p3 to category.\n",
    "tweet_archive_clean.p1 = tweet_archive_clean.p1.astype('category')\n",
    "tweet_archive_clean.p2 = tweet_archive_clean.p2.astype('category')\n",
    "tweet_archive_clean.p3 = tweet_archive_clean.p3.astype('category')\n",
    "tweet_archive_clean.type = tweet_archive_clean.type.astype('category')\n",
    "\n",
    "#Switch p1_dog, p2_dog, and p3_dog to boolean\n",
    "tweet_archive_clean.p1_dog = tweet_archive_clean.p1_dog.astype('bool')\n",
    "tweet_archive_clean.p2_dog = tweet_archive_clean.p2_dog.astype('bool')\n",
    "tweet_archive_clean.p3_dog = tweet_archive_clean.p3_dog.astype('bool')\n",
    "\n",
    "#Switch rating_numerator and rating_denominator to float.\n",
    "tweet_archive_clean.rating_numerator = tweet_archive_clean.rating_numerator.astype(float)\n",
    "tweet_archive_clean.rating_denominator = tweet_archive_clean.rating_denominator.astype(float)"
   ]
  },
  {
   "cell_type": "code",
   "execution_count": 41,
   "metadata": {},
   "outputs": [
    {
     "data": {
      "text/html": [
       "<div>\n",
       "<style>\n",
       "    .dataframe thead tr:only-child th {\n",
       "        text-align: right;\n",
       "    }\n",
       "\n",
       "    .dataframe thead th {\n",
       "        text-align: left;\n",
       "    }\n",
       "\n",
       "    .dataframe tbody tr th {\n",
       "        vertical-align: top;\n",
       "    }\n",
       "</style>\n",
       "<table border=\"1\" class=\"dataframe\">\n",
       "  <thead>\n",
       "    <tr style=\"text-align: right;\">\n",
       "      <th></th>\n",
       "      <th>tweet_id</th>\n",
       "      <th>timestamp</th>\n",
       "      <th>source</th>\n",
       "      <th>text</th>\n",
       "      <th>expanded_urls</th>\n",
       "      <th>rating_numerator</th>\n",
       "      <th>rating_denominator</th>\n",
       "      <th>name</th>\n",
       "      <th>type</th>\n",
       "      <th>favorite_count</th>\n",
       "      <th>...</th>\n",
       "      <th>img_num</th>\n",
       "      <th>p1</th>\n",
       "      <th>p1_conf</th>\n",
       "      <th>p1_dog</th>\n",
       "      <th>p2</th>\n",
       "      <th>p2_conf</th>\n",
       "      <th>p2_dog</th>\n",
       "      <th>p3</th>\n",
       "      <th>p3_conf</th>\n",
       "      <th>p3_dog</th>\n",
       "    </tr>\n",
       "  </thead>\n",
       "  <tbody>\n",
       "    <tr>\n",
       "      <th>1457</th>\n",
       "      <td>676582956622721024</td>\n",
       "      <td>2015-12-15 02:02:01</td>\n",
       "      <td>&lt;a href=\"http://twitter.com/download/iphone\" r...</td>\n",
       "      <td>Meet Vinnie. He's having fun while being safe....</td>\n",
       "      <td>https://twitter.com/dog_rates/status/676582956...</td>\n",
       "      <td>8.0</td>\n",
       "      <td>10.0</td>\n",
       "      <td>Vinnie</td>\n",
       "      <td>None</td>\n",
       "      <td>1260</td>\n",
       "      <td>...</td>\n",
       "      <td>1</td>\n",
       "      <td>seat_belt</td>\n",
       "      <td>0.790028</td>\n",
       "      <td>False</td>\n",
       "      <td>Boston_bull</td>\n",
       "      <td>0.196307</td>\n",
       "      <td>True</td>\n",
       "      <td>French_bulldog</td>\n",
       "      <td>0.012429</td>\n",
       "      <td>True</td>\n",
       "    </tr>\n",
       "    <tr>\n",
       "      <th>84</th>\n",
       "      <td>872486979161796608</td>\n",
       "      <td>2017-06-07 16:14:40</td>\n",
       "      <td>&lt;a href=\"http://twitter.com/download/iphone\" r...</td>\n",
       "      <td>We. Only. Rate. Dogs. Do not send in other thi...</td>\n",
       "      <td>https://twitter.com/dog_rates/status/872486979...</td>\n",
       "      <td>12.0</td>\n",
       "      <td>10.0</td>\n",
       "      <td>None</td>\n",
       "      <td>None</td>\n",
       "      <td>40461</td>\n",
       "      <td>...</td>\n",
       "      <td>1</td>\n",
       "      <td>Pembroke</td>\n",
       "      <td>0.931861</td>\n",
       "      <td>True</td>\n",
       "      <td>Cardigan</td>\n",
       "      <td>0.037721</td>\n",
       "      <td>True</td>\n",
       "      <td>Chihuahua</td>\n",
       "      <td>0.011967</td>\n",
       "      <td>True</td>\n",
       "    </tr>\n",
       "    <tr>\n",
       "      <th>768</th>\n",
       "      <td>744234799360020481</td>\n",
       "      <td>2016-06-18 18:26:18</td>\n",
       "      <td>&lt;a href=\"http://twitter.com/download/iphone\" r...</td>\n",
       "      <td>Here's a doggo realizing you can stand in a po...</td>\n",
       "      <td>https://twitter.com/dog_rates/status/744234799...</td>\n",
       "      <td>13.0</td>\n",
       "      <td>10.0</td>\n",
       "      <td>None</td>\n",
       "      <td>doggo</td>\n",
       "      <td>164839</td>\n",
       "      <td>...</td>\n",
       "      <td>1</td>\n",
       "      <td>Labrador_retriever</td>\n",
       "      <td>0.825333</td>\n",
       "      <td>True</td>\n",
       "      <td>ice_bear</td>\n",
       "      <td>0.044681</td>\n",
       "      <td>False</td>\n",
       "      <td>whippet</td>\n",
       "      <td>0.018442</td>\n",
       "      <td>True</td>\n",
       "    </tr>\n",
       "    <tr>\n",
       "      <th>663</th>\n",
       "      <td>757725642876129280</td>\n",
       "      <td>2016-07-25 23:54:05</td>\n",
       "      <td>&lt;a href=\"http://twitter.com/download/iphone\" r...</td>\n",
       "      <td>This is Beckham. He fell asleep at the wheel. ...</td>\n",
       "      <td>https://twitter.com/dog_rates/status/757725642...</td>\n",
       "      <td>11.0</td>\n",
       "      <td>10.0</td>\n",
       "      <td>Beckham</td>\n",
       "      <td>None</td>\n",
       "      <td>4842</td>\n",
       "      <td>...</td>\n",
       "      <td>2</td>\n",
       "      <td>seat_belt</td>\n",
       "      <td>0.425176</td>\n",
       "      <td>False</td>\n",
       "      <td>Labrador_retriever</td>\n",
       "      <td>0.128128</td>\n",
       "      <td>True</td>\n",
       "      <td>Siamese_cat</td>\n",
       "      <td>0.091241</td>\n",
       "      <td>False</td>\n",
       "    </tr>\n",
       "    <tr>\n",
       "      <th>1548</th>\n",
       "      <td>674075285688614912</td>\n",
       "      <td>2015-12-08 03:57:26</td>\n",
       "      <td>&lt;a href=\"http://twitter.com/download/iphone\" r...</td>\n",
       "      <td>Say hello to Mitch. He thinks that's a hat. No...</td>\n",
       "      <td>https://twitter.com/dog_rates/status/674075285...</td>\n",
       "      <td>11.0</td>\n",
       "      <td>10.0</td>\n",
       "      <td>Mitch</td>\n",
       "      <td>None</td>\n",
       "      <td>1009</td>\n",
       "      <td>...</td>\n",
       "      <td>1</td>\n",
       "      <td>Airedale</td>\n",
       "      <td>0.305392</td>\n",
       "      <td>True</td>\n",
       "      <td>Kerry_blue_terrier</td>\n",
       "      <td>0.250014</td>\n",
       "      <td>True</td>\n",
       "      <td>Lakeland_terrier</td>\n",
       "      <td>0.188668</td>\n",
       "      <td>True</td>\n",
       "    </tr>\n",
       "  </tbody>\n",
       "</table>\n",
       "<p>5 rows × 22 columns</p>\n",
       "</div>"
      ],
      "text/plain": [
       "                tweet_id           timestamp  \\\n",
       "1457  676582956622721024 2015-12-15 02:02:01   \n",
       "84    872486979161796608 2017-06-07 16:14:40   \n",
       "768   744234799360020481 2016-06-18 18:26:18   \n",
       "663   757725642876129280 2016-07-25 23:54:05   \n",
       "1548  674075285688614912 2015-12-08 03:57:26   \n",
       "\n",
       "                                                 source  \\\n",
       "1457  <a href=\"http://twitter.com/download/iphone\" r...   \n",
       "84    <a href=\"http://twitter.com/download/iphone\" r...   \n",
       "768   <a href=\"http://twitter.com/download/iphone\" r...   \n",
       "663   <a href=\"http://twitter.com/download/iphone\" r...   \n",
       "1548  <a href=\"http://twitter.com/download/iphone\" r...   \n",
       "\n",
       "                                                   text  \\\n",
       "1457  Meet Vinnie. He's having fun while being safe....   \n",
       "84    We. Only. Rate. Dogs. Do not send in other thi...   \n",
       "768   Here's a doggo realizing you can stand in a po...   \n",
       "663   This is Beckham. He fell asleep at the wheel. ...   \n",
       "1548  Say hello to Mitch. He thinks that's a hat. No...   \n",
       "\n",
       "                                          expanded_urls  rating_numerator  \\\n",
       "1457  https://twitter.com/dog_rates/status/676582956...               8.0   \n",
       "84    https://twitter.com/dog_rates/status/872486979...              12.0   \n",
       "768   https://twitter.com/dog_rates/status/744234799...              13.0   \n",
       "663   https://twitter.com/dog_rates/status/757725642...              11.0   \n",
       "1548  https://twitter.com/dog_rates/status/674075285...              11.0   \n",
       "\n",
       "      rating_denominator     name   type  favorite_count  ...    img_num  \\\n",
       "1457                10.0   Vinnie   None            1260  ...          1   \n",
       "84                  10.0     None   None           40461  ...          1   \n",
       "768                 10.0     None  doggo          164839  ...          1   \n",
       "663                 10.0  Beckham   None            4842  ...          2   \n",
       "1548                10.0    Mitch   None            1009  ...          1   \n",
       "\n",
       "                      p1   p1_conf p1_dog                  p2   p2_conf  \\\n",
       "1457           seat_belt  0.790028  False         Boston_bull  0.196307   \n",
       "84              Pembroke  0.931861   True            Cardigan  0.037721   \n",
       "768   Labrador_retriever  0.825333   True            ice_bear  0.044681   \n",
       "663            seat_belt  0.425176  False  Labrador_retriever  0.128128   \n",
       "1548            Airedale  0.305392   True  Kerry_blue_terrier  0.250014   \n",
       "\n",
       "     p2_dog                p3   p3_conf p3_dog  \n",
       "1457   True    French_bulldog  0.012429   True  \n",
       "84     True         Chihuahua  0.011967   True  \n",
       "768   False           whippet  0.018442   True  \n",
       "663    True       Siamese_cat  0.091241  False  \n",
       "1548   True  Lakeland_terrier  0.188668   True  \n",
       "\n",
       "[5 rows x 22 columns]"
      ]
     },
     "execution_count": 41,
     "metadata": {},
     "output_type": "execute_result"
    }
   ],
   "source": [
    "tweet_archive_clean.sample(5)"
   ]
  },
  {
   "cell_type": "markdown",
   "metadata": {},
   "source": [
    "#### Test"
   ]
  },
  {
   "cell_type": "code",
   "execution_count": 42,
   "metadata": {},
   "outputs": [
    {
     "name": "stdout",
     "output_type": "stream",
     "text": [
      "<class 'pandas.core.frame.DataFrame'>\n",
      "Int64Index: 1970 entries, 0 to 1969\n",
      "Data columns (total 22 columns):\n",
      "tweet_id              1970 non-null object\n",
      "timestamp             1970 non-null datetime64[ns]\n",
      "source                1970 non-null object\n",
      "text                  1970 non-null object\n",
      "expanded_urls         1970 non-null object\n",
      "rating_numerator      1970 non-null float64\n",
      "rating_denominator    1970 non-null float64\n",
      "name                  1970 non-null object\n",
      "type                  1970 non-null category\n",
      "favorite_count        1970 non-null int64\n",
      "retweet_count         1970 non-null int64\n",
      "jpg_url               1970 non-null object\n",
      "img_num               1970 non-null int64\n",
      "p1                    1970 non-null category\n",
      "p1_conf               1970 non-null float64\n",
      "p1_dog                1970 non-null bool\n",
      "p2                    1970 non-null category\n",
      "p2_conf               1970 non-null float64\n",
      "p2_dog                1970 non-null bool\n",
      "p3                    1970 non-null category\n",
      "p3_conf               1970 non-null float64\n",
      "p3_dog                1970 non-null bool\n",
      "dtypes: bool(3), category(4), datetime64[ns](1), float64(5), int64(3), object(6)\n",
      "memory usage: 405.0+ KB\n"
     ]
    }
   ],
   "source": [
    "tweet_archive_clean.info()"
   ]
  },
  {
   "cell_type": "markdown",
   "metadata": {},
   "source": [
    "#### Define"
   ]
  },
  {
   "cell_type": "markdown",
   "metadata": {},
   "source": [
    "7) Create a further subset of the data by using neural network predictions, tweet ratings and text. \n",
    "\n"
   ]
  },
  {
   "cell_type": "markdown",
   "metadata": {},
   "source": [
    "#### Code"
   ]
  },
  {
   "cell_type": "code",
   "execution_count": 43,
   "metadata": {},
   "outputs": [],
   "source": [
    "# Use neural networkk predictions to narrow down subset of tweets that are not pictures of dogs. \n",
    "\n",
    "\n",
    "possible_not_dogs = tweet_archive_clean[(tweet_archive_clean['p1_dog'] == False) & (tweet_archive_clean['p2_dog'] == False)\n",
    "                                        &(tweet_archive_clean['p3_dog'] == False) &(tweet_archive_clean['rating_numerator'] < 8 )]\n",
    "not_a_dog = []\n",
    "\n",
    "for idx, row in possible_not_dogs.iterrows():\n",
    "    #Tweets with a rating of 7 are about half dog half not dog. These if statements should account for most of our lower rated dogs  \n",
    "    if row['rating_numerator'] == 7:\n",
    "        if 'without a dog' in row.text:\n",
    "            #Fair number of tweets with dogs in them where the dog is camoflauged \n",
    "            #& @dog_rates tweets that the tweet is 'without a dog'\n",
    "            continue\n",
    "        else:\n",
    "            #if the tweet isn't true for any of the above if statements, it's not a dog.\n",
    "            not_a_dog.append(idx)\n",
    "    else:\n",
    "        not_a_dog.append(idx)\n",
    "\n",
    "#dropping!\n",
    "tweet_archive_clean = tweet_archive_clean.drop(labels = not_a_dog, axis = 0)"
   ]
  },
  {
   "cell_type": "markdown",
   "metadata": {},
   "source": [
    "#### Test"
   ]
  },
  {
   "cell_type": "code",
   "execution_count": 44,
   "metadata": {},
   "outputs": [
    {
     "data": {
      "text/plain": [
       "1236    https://pbs.twimg.com/media/CYp4vFrVAAEs9AX.jpg\n",
       "1406    https://pbs.twimg.com/media/CWo_T8gW4AAgJNo.jpg\n",
       "1402    https://pbs.twimg.com/media/CWtede2WIAAF_AJ.jpg\n",
       "1397    https://pbs.twimg.com/media/CWuTbAKUsAAvZHh.jpg\n",
       "1621    https://pbs.twimg.com/media/CVVV1wJWoAEcOyk.jpg\n",
       "Name: jpg_url, dtype: object"
      ]
     },
     "execution_count": 44,
     "metadata": {},
     "output_type": "execute_result"
    }
   ],
   "source": [
    "# Test\n",
    "tweet_archive_clean[tweet_archive_clean.rating_numerator < 8].jpg_url.sample(5)\n"
   ]
  },
  {
   "cell_type": "markdown",
   "metadata": {},
   "source": [
    "#### Define"
   ]
  },
  {
   "cell_type": "markdown",
   "metadata": {},
   "source": [
    "8) Cycle through tweets missing dog type and assign a value. \n"
   ]
  },
  {
   "cell_type": "markdown",
   "metadata": {},
   "source": [
    "#### Code"
   ]
  },
  {
   "cell_type": "code",
   "execution_count": 45,
   "metadata": {},
   "outputs": [],
   "source": [
    "for idx, row in tweet_archive_clean[tweet_archive_clean.type =='None'].iterrows():\n",
    "    dog_types = []\n",
    "    if 'puppo' in row.text:\n",
    "        dog_types.append('puppo')\n",
    "    if 'pupper' in row.text:\n",
    "        dog_types.append('pupper')\n",
    "    if 'doggo' in row.text:\n",
    "        dog_types.append('doggo')\n",
    "    if 'floofer' in row.text:\n",
    "        dog_types.append('floofer')\n",
    "    if len(dog_types) > 0:\n",
    "        tweet_archive_clean.loc[idx, 'type'] = ','.join(dog_types)"
   ]
  },
  {
   "cell_type": "markdown",
   "metadata": {},
   "source": [
    "#### Test"
   ]
  },
  {
   "cell_type": "code",
   "execution_count": 46,
   "metadata": {},
   "outputs": [
    {
     "name": "stdout",
     "output_type": "stream",
     "text": [
      "None             1557\n",
      "pupper            213\n",
      "doggo              69\n",
      "puppo              27\n",
      "doggo,pupper        8\n",
      "floofer             7\n",
      "doggo,puppo         1\n",
      "doggo,floofer       1\n",
      "Name: type, dtype: int64\n",
      "None             1976\n",
      "pupper            245\n",
      "doggo              83\n",
      "puppo              29\n",
      "doggo,pupper       12\n",
      "floofer             9\n",
      "doggo,floofer       1\n",
      "doggo,puppo         1\n",
      "Name: type, dtype: int64\n"
     ]
    }
   ],
   "source": [
    "# test\n",
    "tweet_archive_clean[tweet_archive_clean.type == 'None'].sample(6)\n",
    "print(tweet_archive_clean.type.value_counts())\n",
    "print(vc_type)"
   ]
  },
  {
   "cell_type": "code",
   "execution_count": 47,
   "metadata": {},
   "outputs": [],
   "source": [
    "# store data\n",
    "tweet_archive_clean.to_csv('twitter_archive_master.csv', index = False)\n"
   ]
  },
  {
   "cell_type": "markdown",
   "metadata": {},
   "source": [
    "#### Define"
   ]
  },
  {
   "cell_type": "markdown",
   "metadata": {},
   "source": [
    "9) Fix rating numerator that have decimals."
   ]
  },
  {
   "cell_type": "markdown",
   "metadata": {},
   "source": [
    "#### Code "
   ]
  },
  {
   "cell_type": "code",
   "execution_count": 72,
   "metadata": {},
   "outputs": [
    {
     "data": {
      "text/plain": [
       "12.0                 448\n",
       "10.0                 409\n",
       "11.0                 394\n",
       "13.0                 253\n",
       "9.0                  151\n",
       "8.0                   94\n",
       "7.0                   34\n",
       "14.0                  34\n",
       "6.0                   16\n",
       "5.0                   11\n",
       "4.0                    6\n",
       "3.0                    5\n",
       "8.5                    3\n",
       "7.5                    3\n",
       "9.5                    3\n",
       "5.5                    2\n",
       "6.5                    2\n",
       "10.5                   2\n",
       "2.0                    2\n",
       "9.75                   1\n",
       "1776.0                 1\n",
       "11.26                  1\n",
       "9.666666666666666      1\n",
       "4.5                    1\n",
       "11.27                  1\n",
       "13.5                   1\n",
       "NaN                    1\n",
       "420.0                  1\n",
       "11.5                   1\n",
       "0.0                    1\n",
       "Name: rating_numerator, dtype: int64"
      ]
     },
     "execution_count": 72,
     "metadata": {},
     "output_type": "execute_result"
    }
   ],
   "source": [
    "rates = []\n",
    "\n",
    "#raw_rates = lambda x: rates.append(re.findall(r'(\\d+(\\.\\d+)|(\\d+))\\/(\\d+0)', x, flags=0))\n",
    "\n",
    "tweet_archive_clean['text'].apply(lambda x: rates.append(re.findall(r'(\\d+(\\.\\d+)|(\\d+))\\/(\\d+0)', x, flags=0)))\n",
    "\n",
    "rating = []\n",
    "dog_count = []\n",
    "\n",
    "for item in rates:\n",
    "    \n",
    "    # for tweets with no rating, but a picture, so a dog_count of 1\n",
    "    if len(item) == 0:\n",
    "        rating.append('NaN')\n",
    "        dog_count.append(1)\n",
    "        \n",
    "    # for tweets with single rating and dog_count of 1\n",
    "    elif len(item) == 1 and item[0][-1] == '10':\n",
    "        rating.append(float(item[0][0]))\n",
    "        dog_count.append(1)\n",
    "   \n",
    "    # for multiple ratings\n",
    "    elif len(item) == 1: \n",
    "        a = float(item[0][0]) / (float(item[0][-1]) / 10) \n",
    "        rating.append(a)\n",
    "        dog_count.append(float(item[0][-1]) / 10)\n",
    "   \n",
    "    # for tweets with more than one rating\n",
    "    elif len(item) > 1: \n",
    "        total = 0\n",
    "        r = []\n",
    "        for i in range(len(item)):\n",
    "            if item[i][-1] == '10': #excluding tweet with phrase'50/50' \n",
    "                r.append(item[i])\n",
    "        for rate in r:\n",
    "            total = total + float(rate[0])\n",
    "        a = total / len(item)\n",
    "        rating.append(a)\n",
    "        dog_count.append(len(item))\n",
    "   \n",
    "    # if any error has occurred\n",
    "    else:\n",
    "        rating.append('Not parsed')\n",
    "        dog_count.append('Not parsed') \n",
    "        \n",
    "tweet_archive_clean['rating_numerator'] = rating \n",
    "tweet_archive_clean['dog_count'] = dog_count\n",
    "tweet_archive_clean['rating_numerator'].value_counts()"
   ]
  },
  {
   "cell_type": "markdown",
   "metadata": {},
   "source": [
    "#### Test"
   ]
  },
  {
   "cell_type": "code",
   "execution_count": 73,
   "metadata": {},
   "outputs": [
    {
     "name": "stderr",
     "output_type": "stream",
     "text": [
      "/opt/conda/lib/python3.6/site-packages/ipykernel_launcher.py:1: UserWarning: This pattern has match groups. To actually get the groups, use str.extract.\n",
      "  \"\"\"Entry point for launching an IPython kernel.\n"
     ]
    },
    {
     "data": {
      "text/html": [
       "<div>\n",
       "<style>\n",
       "    .dataframe thead tr:only-child th {\n",
       "        text-align: right;\n",
       "    }\n",
       "\n",
       "    .dataframe thead th {\n",
       "        text-align: left;\n",
       "    }\n",
       "\n",
       "    .dataframe tbody tr th {\n",
       "        vertical-align: top;\n",
       "    }\n",
       "</style>\n",
       "<table border=\"1\" class=\"dataframe\">\n",
       "  <thead>\n",
       "    <tr style=\"text-align: right;\">\n",
       "      <th></th>\n",
       "      <th>tweet_id</th>\n",
       "      <th>timestamp</th>\n",
       "      <th>source</th>\n",
       "      <th>text</th>\n",
       "      <th>expanded_urls</th>\n",
       "      <th>rating_numerator</th>\n",
       "      <th>rating_denominator</th>\n",
       "      <th>name</th>\n",
       "      <th>type</th>\n",
       "      <th>favorite_count</th>\n",
       "      <th>...</th>\n",
       "      <th>p1</th>\n",
       "      <th>p1_conf</th>\n",
       "      <th>p1_dog</th>\n",
       "      <th>p2</th>\n",
       "      <th>p2_conf</th>\n",
       "      <th>p2_dog</th>\n",
       "      <th>p3</th>\n",
       "      <th>p3_conf</th>\n",
       "      <th>p3_dog</th>\n",
       "      <th>dog_count</th>\n",
       "    </tr>\n",
       "  </thead>\n",
       "  <tbody>\n",
       "    <tr>\n",
       "      <th>39</th>\n",
       "      <td>883482846933004288</td>\n",
       "      <td>2017-07-08 00:28:19</td>\n",
       "      <td>&lt;a href=\"http://twitter.com/download/iphone\" r...</td>\n",
       "      <td>This is Bella. She hopes her smile made you sm...</td>\n",
       "      <td>https://twitter.com/dog_rates/status/883482846...</td>\n",
       "      <td>13.5</td>\n",
       "      <td>10.0</td>\n",
       "      <td>Bella</td>\n",
       "      <td>None</td>\n",
       "      <td>45506</td>\n",
       "      <td>...</td>\n",
       "      <td>golden_retriever</td>\n",
       "      <td>0.943082</td>\n",
       "      <td>True</td>\n",
       "      <td>Labrador_retriever</td>\n",
       "      <td>0.032409</td>\n",
       "      <td>True</td>\n",
       "      <td>kuvasz</td>\n",
       "      <td>0.005501</td>\n",
       "      <td>True</td>\n",
       "      <td>1.0</td>\n",
       "    </tr>\n",
       "    <tr>\n",
       "      <th>499</th>\n",
       "      <td>786709082849828864</td>\n",
       "      <td>2016-10-13 23:23:56</td>\n",
       "      <td>&lt;a href=\"http://twitter.com/download/iphone\" r...</td>\n",
       "      <td>This is Logan, the Chow who lived. He solemnly...</td>\n",
       "      <td>https://twitter.com/dog_rates/status/786709082...</td>\n",
       "      <td>9.75</td>\n",
       "      <td>10.0</td>\n",
       "      <td>Logan</td>\n",
       "      <td>None</td>\n",
       "      <td>19664</td>\n",
       "      <td>...</td>\n",
       "      <td>Pomeranian</td>\n",
       "      <td>0.467321</td>\n",
       "      <td>True</td>\n",
       "      <td>Persian_cat</td>\n",
       "      <td>0.122978</td>\n",
       "      <td>False</td>\n",
       "      <td>chow</td>\n",
       "      <td>0.102654</td>\n",
       "      <td>True</td>\n",
       "      <td>1.0</td>\n",
       "    </tr>\n",
       "    <tr>\n",
       "      <th>549</th>\n",
       "      <td>778027034220126208</td>\n",
       "      <td>2016-09-20 00:24:34</td>\n",
       "      <td>&lt;a href=\"http://twitter.com/download/iphone\" r...</td>\n",
       "      <td>This is Sophie. She's a Jubilant Bush Pupper. ...</td>\n",
       "      <td>https://twitter.com/dog_rates/status/778027034...</td>\n",
       "      <td>11.27</td>\n",
       "      <td>10.0</td>\n",
       "      <td>Sophie</td>\n",
       "      <td>pupper</td>\n",
       "      <td>7064</td>\n",
       "      <td>...</td>\n",
       "      <td>clumber</td>\n",
       "      <td>0.946718</td>\n",
       "      <td>True</td>\n",
       "      <td>cocker_spaniel</td>\n",
       "      <td>0.015950</td>\n",
       "      <td>True</td>\n",
       "      <td>Lhasa</td>\n",
       "      <td>0.006519</td>\n",
       "      <td>True</td>\n",
       "      <td>1.0</td>\n",
       "    </tr>\n",
       "    <tr>\n",
       "      <th>1358</th>\n",
       "      <td>680494726643068929</td>\n",
       "      <td>2015-12-25 21:06:00</td>\n",
       "      <td>&lt;a href=\"http://twitter.com/download/iphone\" r...</td>\n",
       "      <td>Here we have uncovered an entire battalion of ...</td>\n",
       "      <td>https://twitter.com/dog_rates/status/680494726...</td>\n",
       "      <td>11.26</td>\n",
       "      <td>10.0</td>\n",
       "      <td>None</td>\n",
       "      <td>pupper</td>\n",
       "      <td>1811</td>\n",
       "      <td>...</td>\n",
       "      <td>kuvasz</td>\n",
       "      <td>0.438627</td>\n",
       "      <td>True</td>\n",
       "      <td>Samoyed</td>\n",
       "      <td>0.111622</td>\n",
       "      <td>True</td>\n",
       "      <td>Great_Pyrenees</td>\n",
       "      <td>0.064061</td>\n",
       "      <td>True</td>\n",
       "      <td>1.0</td>\n",
       "    </tr>\n",
       "  </tbody>\n",
       "</table>\n",
       "<p>4 rows × 23 columns</p>\n",
       "</div>"
      ],
      "text/plain": [
       "                tweet_id           timestamp  \\\n",
       "39    883482846933004288 2017-07-08 00:28:19   \n",
       "499   786709082849828864 2016-10-13 23:23:56   \n",
       "549   778027034220126208 2016-09-20 00:24:34   \n",
       "1358  680494726643068929 2015-12-25 21:06:00   \n",
       "\n",
       "                                                 source  \\\n",
       "39    <a href=\"http://twitter.com/download/iphone\" r...   \n",
       "499   <a href=\"http://twitter.com/download/iphone\" r...   \n",
       "549   <a href=\"http://twitter.com/download/iphone\" r...   \n",
       "1358  <a href=\"http://twitter.com/download/iphone\" r...   \n",
       "\n",
       "                                                   text  \\\n",
       "39    This is Bella. She hopes her smile made you sm...   \n",
       "499   This is Logan, the Chow who lived. He solemnly...   \n",
       "549   This is Sophie. She's a Jubilant Bush Pupper. ...   \n",
       "1358  Here we have uncovered an entire battalion of ...   \n",
       "\n",
       "                                          expanded_urls rating_numerator  \\\n",
       "39    https://twitter.com/dog_rates/status/883482846...             13.5   \n",
       "499   https://twitter.com/dog_rates/status/786709082...             9.75   \n",
       "549   https://twitter.com/dog_rates/status/778027034...            11.27   \n",
       "1358  https://twitter.com/dog_rates/status/680494726...            11.26   \n",
       "\n",
       "      rating_denominator    name    type  favorite_count    ...     \\\n",
       "39                  10.0   Bella    None           45506    ...      \n",
       "499                 10.0   Logan    None           19664    ...      \n",
       "549                 10.0  Sophie  pupper            7064    ...      \n",
       "1358                10.0    None  pupper            1811    ...      \n",
       "\n",
       "                    p1   p1_conf  p1_dog                  p2   p2_conf  \\\n",
       "39    golden_retriever  0.943082    True  Labrador_retriever  0.032409   \n",
       "499         Pomeranian  0.467321    True         Persian_cat  0.122978   \n",
       "549            clumber  0.946718    True      cocker_spaniel  0.015950   \n",
       "1358            kuvasz  0.438627    True             Samoyed  0.111622   \n",
       "\n",
       "      p2_dog              p3   p3_conf  p3_dog dog_count  \n",
       "39      True          kuvasz  0.005501    True       1.0  \n",
       "499    False            chow  0.102654    True       1.0  \n",
       "549     True           Lhasa  0.006519    True       1.0  \n",
       "1358    True  Great_Pyrenees  0.064061    True       1.0  \n",
       "\n",
       "[4 rows x 23 columns]"
      ]
     },
     "execution_count": 73,
     "metadata": {},
     "output_type": "execute_result"
    }
   ],
   "source": [
    "tweet_archive_clean[tweet_archive_clean.text.str.contains(r\"(\\d+\\.\\d*\\/\\d+)\")]"
   ]
  },
  {
   "cell_type": "code",
   "execution_count": null,
   "metadata": {},
   "outputs": [],
   "source": [
    "tweet_archive_clean['dog_count'].value_counts()"
   ]
  },
  {
   "cell_type": "markdown",
   "metadata": {},
   "source": [
    "## Analysis and Visualization "
   ]
  },
  {
   "cell_type": "code",
   "execution_count": 74,
   "metadata": {},
   "outputs": [
    {
     "name": "stdout",
     "output_type": "stream",
     "text": [
      "Stored 'tweets' (DataFrame)\n"
     ]
    }
   ],
   "source": [
    "tweets = tweet_archive_clean\n",
    "%store tweets"
   ]
  },
  {
   "cell_type": "code",
   "execution_count": 75,
   "metadata": {},
   "outputs": [
    {
     "data": {
      "text/html": [
       "<div>\n",
       "<style>\n",
       "    .dataframe thead tr:only-child th {\n",
       "        text-align: right;\n",
       "    }\n",
       "\n",
       "    .dataframe thead th {\n",
       "        text-align: left;\n",
       "    }\n",
       "\n",
       "    .dataframe tbody tr th {\n",
       "        vertical-align: top;\n",
       "    }\n",
       "</style>\n",
       "<table border=\"1\" class=\"dataframe\">\n",
       "  <thead>\n",
       "    <tr style=\"text-align: right;\">\n",
       "      <th></th>\n",
       "      <th>rating_denominator</th>\n",
       "      <th>favorite_count</th>\n",
       "      <th>retweet_count</th>\n",
       "      <th>img_num</th>\n",
       "      <th>p1_conf</th>\n",
       "      <th>p2_conf</th>\n",
       "      <th>p3_conf</th>\n",
       "      <th>dog_count</th>\n",
       "    </tr>\n",
       "  </thead>\n",
       "  <tbody>\n",
       "    <tr>\n",
       "      <th>count</th>\n",
       "      <td>1883.000000</td>\n",
       "      <td>1883.000000</td>\n",
       "      <td>1883.000000</td>\n",
       "      <td>1883.000000</td>\n",
       "      <td>1883.000000</td>\n",
       "      <td>1.883000e+03</td>\n",
       "      <td>1.883000e+03</td>\n",
       "      <td>1883.000000</td>\n",
       "    </tr>\n",
       "    <tr>\n",
       "      <th>mean</th>\n",
       "      <td>10.499734</td>\n",
       "      <td>9134.133829</td>\n",
       "      <td>2774.637281</td>\n",
       "      <td>1.210834</td>\n",
       "      <td>0.597376</td>\n",
       "      <td>1.344226e-01</td>\n",
       "      <td>6.031185e-02</td>\n",
       "      <td>1.060542</td>\n",
       "    </tr>\n",
       "    <tr>\n",
       "      <th>std</th>\n",
       "      <td>7.010875</td>\n",
       "      <td>13088.984610</td>\n",
       "      <td>4876.332325</td>\n",
       "      <td>0.569924</td>\n",
       "      <td>0.271366</td>\n",
       "      <td>1.005755e-01</td>\n",
       "      <td>5.110918e-02</td>\n",
       "      <td>0.703377</td>\n",
       "    </tr>\n",
       "    <tr>\n",
       "      <th>min</th>\n",
       "      <td>2.000000</td>\n",
       "      <td>80.000000</td>\n",
       "      <td>12.000000</td>\n",
       "      <td>1.000000</td>\n",
       "      <td>0.044333</td>\n",
       "      <td>1.011300e-08</td>\n",
       "      <td>1.740170e-10</td>\n",
       "      <td>1.000000</td>\n",
       "    </tr>\n",
       "    <tr>\n",
       "      <th>25%</th>\n",
       "      <td>10.000000</td>\n",
       "      <td>2027.000000</td>\n",
       "      <td>607.500000</td>\n",
       "      <td>1.000000</td>\n",
       "      <td>0.367430</td>\n",
       "      <td>5.339800e-02</td>\n",
       "      <td>1.614795e-02</td>\n",
       "      <td>1.000000</td>\n",
       "    </tr>\n",
       "    <tr>\n",
       "      <th>50%</th>\n",
       "      <td>10.000000</td>\n",
       "      <td>4184.000000</td>\n",
       "      <td>1358.000000</td>\n",
       "      <td>1.000000</td>\n",
       "      <td>0.595665</td>\n",
       "      <td>1.175080e-01</td>\n",
       "      <td>4.923690e-02</td>\n",
       "      <td>1.000000</td>\n",
       "    </tr>\n",
       "    <tr>\n",
       "      <th>75%</th>\n",
       "      <td>10.000000</td>\n",
       "      <td>11491.000000</td>\n",
       "      <td>3168.500000</td>\n",
       "      <td>1.000000</td>\n",
       "      <td>0.848720</td>\n",
       "      <td>1.953115e-01</td>\n",
       "      <td>9.272610e-02</td>\n",
       "      <td>1.000000</td>\n",
       "    </tr>\n",
       "    <tr>\n",
       "      <th>max</th>\n",
       "      <td>170.000000</td>\n",
       "      <td>164839.000000</td>\n",
       "      <td>84529.000000</td>\n",
       "      <td>4.000000</td>\n",
       "      <td>1.000000</td>\n",
       "      <td>4.676780e-01</td>\n",
       "      <td>2.734190e-01</td>\n",
       "      <td>17.000000</td>\n",
       "    </tr>\n",
       "  </tbody>\n",
       "</table>\n",
       "</div>"
      ],
      "text/plain": [
       "       rating_denominator  favorite_count  retweet_count      img_num  \\\n",
       "count         1883.000000     1883.000000    1883.000000  1883.000000   \n",
       "mean            10.499734     9134.133829    2774.637281     1.210834   \n",
       "std              7.010875    13088.984610    4876.332325     0.569924   \n",
       "min              2.000000       80.000000      12.000000     1.000000   \n",
       "25%             10.000000     2027.000000     607.500000     1.000000   \n",
       "50%             10.000000     4184.000000    1358.000000     1.000000   \n",
       "75%             10.000000    11491.000000    3168.500000     1.000000   \n",
       "max            170.000000   164839.000000   84529.000000     4.000000   \n",
       "\n",
       "           p1_conf       p2_conf       p3_conf    dog_count  \n",
       "count  1883.000000  1.883000e+03  1.883000e+03  1883.000000  \n",
       "mean      0.597376  1.344226e-01  6.031185e-02     1.060542  \n",
       "std       0.271366  1.005755e-01  5.110918e-02     0.703377  \n",
       "min       0.044333  1.011300e-08  1.740170e-10     1.000000  \n",
       "25%       0.367430  5.339800e-02  1.614795e-02     1.000000  \n",
       "50%       0.595665  1.175080e-01  4.923690e-02     1.000000  \n",
       "75%       0.848720  1.953115e-01  9.272610e-02     1.000000  \n",
       "max       1.000000  4.676780e-01  2.734190e-01    17.000000  "
      ]
     },
     "execution_count": 75,
     "metadata": {},
     "output_type": "execute_result"
    }
   ],
   "source": [
    "tweets.describe()"
   ]
  },
  {
   "cell_type": "code",
   "execution_count": 87,
   "metadata": {},
   "outputs": [
    {
     "data": {
      "image/png": "[encoded data removed]",
      "text/plain": [
       "<matplotlib.figure.Figure at 0x7f677d99c5f8>"
      ]
     },
     "metadata": {},
     "output_type": "display_data"
    }
   ],
   "source": [
    "plt.figure(1, figsize = (11, 8.5))\n",
    "plt.hist(x = tweet_archive_clean.retweet_count, bins = 100)\n",
    "plt.title('Distribution of Retweet Counts')\n",
    "plt.xlabel('Retweet Counts')\n",
    "plt.ylabel('Frequency')\n",
    "plt.show()"
   ]
  },
  {
   "cell_type": "code",
   "execution_count": 77,
   "metadata": {},
   "outputs": [
    {
     "data": {
      "text/plain": [
       "Text(0,0.5,'Frequency')"
      ]
     },
     "execution_count": 77,
     "metadata": {},
     "output_type": "execute_result"
    },
    {
     "data": {
      "image/png": "[encoded data removed]",
      "text/plain": [
       "<matplotlib.figure.Figure at 0x7f677fda0fd0>"
      ]
     },
     "metadata": {},
     "output_type": "display_data"
    }
   ],
   "source": [
    "plt.figure(1, figsize = (11, 8.5))\n",
    "plt.hist(x = tweet_archive_clean.favorite_count, bins = 100)\n",
    "plt.title('Distribution of Favorite Counts')\n",
    "plt.xlabel('Favorite Counts')\n",
    "plt.ylabel('Frequency')\n",
    "# plt.show()"
   ]
  },
  {
   "cell_type": "code",
   "execution_count": 79,
   "metadata": {},
   "outputs": [
    {
     "name": "stdout",
     "output_type": "stream",
     "text": [
      "Stored 'df_logged' (DataFrame)\n"
     ]
    }
   ],
   "source": [
    "# log transformation of data\n",
    "\n",
    "to_log = ['favorite_count', 'retweet_count']\n",
    "df_logged = tweet_archive_clean[to_log].applymap(lambda x: np.log10(x))\n",
    "%store df_logged"
   ]
  },
  {
   "cell_type": "code",
   "execution_count": 80,
   "metadata": {},
   "outputs": [
    {
     "data": {
      "image/png": "[encoded data removed]",
      "text/plain": [
       "<matplotlib.figure.Figure at 0x7f677dbb77b8>"
      ]
     },
     "metadata": {},
     "output_type": "display_data"
    }
   ],
   "source": [
    "# Retweet Count\n",
    "plt.hist(x = df_logged.retweet_count, bins = 100)\n",
    "plt.show()"
   ]
  },
  {
   "cell_type": "code",
   "execution_count": 81,
   "metadata": {},
   "outputs": [
    {
     "data": {
      "image/png": "[encoded data removed]",
      "text/plain": [
       "<matplotlib.figure.Figure at 0x7f677dba7780>"
      ]
     },
     "metadata": {},
     "output_type": "display_data"
    }
   ],
   "source": [
    "# Favorite Count \n",
    "plt.hist(x = df_logged.favorite_count, bins = 100)\n",
    "plt.show()"
   ]
  },
  {
   "cell_type": "code",
   "execution_count": 82,
   "metadata": {},
   "outputs": [
    {
     "data": {
      "image/png": "[encoded data removed]",
      "text/plain": [
       "<matplotlib.figure.Figure at 0x7f677dba72e8>"
      ]
     },
     "metadata": {},
     "output_type": "display_data"
    }
   ],
   "source": [
    "# Plot \n",
    "\n",
    "plt.plot(tweet_archive_clean.favorite_count, tweet_archive_clean.retweet_count, marker='o', linestyle='', ms=2 )\n",
    "plt.show()"
   ]
  },
  {
   "cell_type": "code",
   "execution_count": 83,
   "metadata": {},
   "outputs": [
    {
     "data": {
      "image/png": "[encoded data removed]",
      "text/plain": [
       "<matplotlib.figure.Figure at 0x7f67804ca908>"
      ]
     },
     "metadata": {},
     "output_type": "display_data"
    },
    {
     "data": {
      "text/plain": [
       "0.97068619815809598"
      ]
     },
     "execution_count": 83,
     "metadata": {},
     "output_type": "execute_result"
    }
   ],
   "source": [
    "# Correlation Test \n",
    "plt.figure(1, figsize = (11, 8.5))\n",
    "plt.plot(df_logged.favorite_count, df_logged.retweet_count, marker='o', linestyle='', ms=2 )\n",
    "plt.title('Log(Retweet Count) versus Log(Favorite Count)')\n",
    "plt.xlabel('Log(Favorite Count)')\n",
    "plt.ylabel('Log(Retweet Count)')\n",
    "plt.show()\n",
    "np.corrcoef(df_logged.retweet_count, df_logged.favorite_count)[0][1]"
   ]
  },
  {
   "cell_type": "code",
   "execution_count": 84,
   "metadata": {},
   "outputs": [
    {
     "data": {
      "image/png": "[encoded data removed]",
      "text/plain": [
       "<matplotlib.figure.Figure at 0x7f678031ff98>"
      ]
     },
     "metadata": {},
     "output_type": "display_data"
    }
   ],
   "source": [
    "plt.figure(1, figsize = (11, 8.5))\n",
    "plt.plot(df_logged.retweet_count, tweet_archive_clean.rating_numerator, marker ='o', linestyle='', ms= 2)\n",
    "plt.title('Numerator Rating versus Log(Favorite Count)')\n",
    "plt.xlabel('Log(Favorite Count)')\n",
    "plt.ylabel('Numerator Rating')\n",
    "plt.ylim(0,15)\n",
    "plt.show()"
   ]
  },
  {
   "cell_type": "code",
   "execution_count": 85,
   "metadata": {},
   "outputs": [
    {
     "data": {
      "image/png": "[encoded data removed]",
      "text/plain": [
       "<matplotlib.figure.Figure at 0x7f677d977fd0>"
      ]
     },
     "metadata": {},
     "output_type": "display_data"
    }
   ],
   "source": [
    "plt.figure(1, figsize = (11, 8.5))\n",
    "plt.plot(tweet_archive_clean.timestamp ,df_logged.retweet_count, marker = 'o', linestyle = '', ms = 2)\n",
    "plt.title('Favorite Count Over Time')\n",
    "plt.xlabel('Time (Year - Month)')\n",
    "plt.ylabel('Log(Favorite Count)')\n",
    "plt.show()"
   ]
  },
  {
   "cell_type": "code",
   "execution_count": 86,
   "metadata": {},
   "outputs": [
    {
     "data": {
      "image/png": "[encoded data removed]",
      "text/plain": [
       "<matplotlib.figure.Figure at 0x7f677d9e5438>"
      ]
     },
     "metadata": {},
     "output_type": "display_data"
    }
   ],
   "source": [
    "nmonth = list(range(22))\n",
    "smonth = ['11/2015', '12/2015', '1/2016', '2/2016', '3/2016', '4/2016', ]\n",
    "tweets_per_month=[264, 332, 157, 102, 113, 54, 55, 78, 87, 58, 63, 65, 52, 54, 66, 64, 47, 40, 42, 44, 49, 2]\n",
    "plt.figure(1, figsize = (11, 8.5))\n",
    "plt.plot(nmonth, tweets_per_month, marker= 'o', ms=3)\n",
    "plt.title('Tweets per Month Over Time')\n",
    "plt.xlabel('Month (Number of Months since Account\\'s creation)')\n",
    "plt.ylabel('Number of Tweets')\n",
    "plt.show()"
   ]
  },
  {
   "cell_type": "code",
   "execution_count": null,
   "metadata": {},
   "outputs": [],
   "source": []
  },
  {
   "cell_type": "code",
   "execution_count": null,
   "metadata": {},
   "outputs": [],
   "source": []
  }
 ],
 "metadata": {
  "kernelspec": {
   "display_name": "Python 3",
   "language": "python",
   "name": "python3"
  },
  "language_info": {
   "codemirror_mode": {
    "name": "ipython",
    "version": 3
   },
   "file_extension": ".py",
   "mimetype": "text/x-python",
   "name": "python",
   "nbconvert_exporter": "python",
   "pygments_lexer": "ipython3",
   "version": "3.6.3"
  }
 },
 "nbformat": 4,
 "nbformat_minor": 2
}
